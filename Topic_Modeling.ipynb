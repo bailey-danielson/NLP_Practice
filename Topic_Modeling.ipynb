{
 "cells": [
  {
   "cell_type": "code",
   "execution_count": 13,
   "metadata": {},
   "outputs": [],
   "source": [
    "from my_functions import text_reader, clean_and_remove_stops"
   ]
  },
  {
   "cell_type": "code",
   "execution_count": 14,
   "metadata": {},
   "outputs": [
    {
     "name": "stdout",
     "output_type": "stream",
     "text": [
      "stop.update([\"string\" , \"string\", \"string\"])\n"
     ]
    }
   ],
   "source": [
    "IHC = clean_and_remove_stops(text_reader(\"/Users/BaileyDanielson/Documents/Python/IHC.txt\"))"
   ]
  },
  {
   "cell_type": "code",
   "execution_count": 17,
   "metadata": {},
   "outputs": [
    {
     "data": {
      "text/plain": [
       "'jm coetzee heart country  today father brought home new bride came clipclop across flats dogcart drawn horse ostrichplume waving forehead dusty long haul perhaps drawn two plumed donkeys also possible father wore black swallowtail coat stovepipe hat bride widebrimmed sunhat white dress tight waist throat detail cannot give unless begin embroider watching room emerald semi dark shuttered late afternoon reading book or likely supine damp towel eyes fighting migraine one stays room reading writing '"
      ]
     },
     "execution_count": 17,
     "metadata": {},
     "output_type": "execute_result"
    }
   ],
   "source": [
    "IHC[:500]"
   ]
  },
  {
   "cell_type": "code",
   "execution_count": null,
   "metadata": {},
   "outputs": [],
   "source": []
  }
 ],
 "metadata": {
  "kernelspec": {
   "display_name": "Python 3",
   "language": "python",
   "name": "python3"
  },
  "language_info": {
   "codemirror_mode": {
    "name": "ipython",
    "version": 3
   },
   "file_extension": ".py",
   "mimetype": "text/x-python",
   "name": "python",
   "nbconvert_exporter": "python",
   "pygments_lexer": "ipython3",
   "version": "3.6.5"
  }
 },
 "nbformat": 4,
 "nbformat_minor": 2
}
