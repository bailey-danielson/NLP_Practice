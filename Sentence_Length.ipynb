{
 "cells": [
  {
   "cell_type": "markdown",
   "metadata": {},
   "source": [
    "# Import Modules"
   ]
  },
  {
   "cell_type": "code",
   "execution_count": 16,
   "metadata": {},
   "outputs": [],
   "source": [
    "from collections import Counter\n",
    "import re"
   ]
  },
  {
   "cell_type": "code",
   "execution_count": 6,
   "metadata": {},
   "outputs": [],
   "source": [
    "def text_reader(text_file):\n",
    "    \n",
    "    \"\"\"Read in a text file and return a string\n",
    "    \n",
    "    Keyword Arguments:\n",
    "    text_file -- string that points to a .txt file on your computer\"\"\"\n",
    "    \n",
    "    lines = []\n",
    "    with open(text_file, 'r') as file:\n",
    "        for line in file:\n",
    "            lines.append(line)\n",
    "    return \" \".join(lines) "
   ]
  },
  {
   "cell_type": "code",
   "execution_count": 7,
   "metadata": {},
   "outputs": [],
   "source": [
    "in_the_heart_of_the_country = '/Users/BaileyDanielson/Documents/Python/IHC.txt'\n",
    "IHC_novel = text_reader(text_file = in_the_heart_of_the_country)"
   ]
  },
  {
   "cell_type": "code",
   "execution_count": 33,
   "metadata": {},
   "outputs": [
    {
     "data": {
      "text/plain": [
       "'\\x0cJ.M. Coetzee\\n In the Heart of the Country\\n \\n \\n \\n \\n 1. Today my father brought home his new bride. They came clip-clop across\\n the flats in a dog-cart drawn by a horse with an ostrich-plume waving on its\\n forehead, dusty after the long haul. Or perhaps they were drawn by two\\n plumed donkeys, that is also possible. My father wore his black swallowtail\\n coat and stovepipe hat, his bride a wide-brimmed sunhat and a white dress\\n tight at waist and throat. More detail I cannot give unless I begin to\\n embroider, for I was not watching. I was in my room, in the emerald semi-\\n dark of the shuttered late afternoon, reading a book or, more likely, supine\\n with a damp towel over my eyes fighting a migraine. I am the one who stays\\n in her room reading or writing or fighting migraines. The colonies are full of\\n girls like that, but none, I think, so extreme as I. My father is the one who\\n paces the floorboards back and forth, back and forth In his slow black boots.\\n And then, for a third, there is the new wife, who lies late abed. Those are the\\n antagonists.\\n \\n          2. The new wife. The new wife is a lazy big-boned voluptuous feline\\n woman with a wide slow-smiling mouth. Her eyes are black and shrewd like\\n two berries, two shrewd black berries. She is a big woman with fine wrists\\n and long plump tapering fingers. She eats her food with relish. She sleeps and\\n eats and lazes. She sticks out her long red tongue and licks the sweet mutton-\\n fat, from her lips. \"Ah, I like that!\" she says, and smiles and rolls her eyes. I\\n watch her mouth, mesmerized. Then she turns on me the wide smiling mouth\\n and the shrewd, black eyes. I cannot easily sustain her smile. We are not a\\n happy family together.\\n \\n          3. She is the new wife, therefore the old one is dead. The old wife was\\n my mother, but died so many years ago that I barely recall her. I must have\\n been very young when she died, perhaps only a newborn babe. From one of\\n the farthest oubliettes of memory I extract a faint grey image, the image of a\\n faint grey frail gentle loving mother huddled on the floor, one such as any girl\\n in my position would be likely to make up for herself.\\n \\n          4. My father\\'s first wife, my mother, was a frail gentle loving woman\\n who lived and died under her husband\\'s thumb. Her husband never forgave\\n her for failing to bear him a son. His relentless sexual demands led to her\\n death in childbirth. She was too frail and gentle to give birth to the rough rude\\n boy-heir my father wanted, therefore she died. The doctor came too late.\\n Summoned by a messenger on a bicycle, he had to come trundling along forty\\n miles of farm-track in his donkey-cart. When he arrived my mother already\\n lay composed on her deathbed, patient, bloodless, apologetic.\\n \\n         5. (But why did he not come on horseback? But were there bicycles in\\n those days?)\\n \\n         6. I was not watching my father bear his bride home across the flats\\n because I was in my room in the dark west wing eating my heart out and\\n biding my time. I should have been standing ready to greet them with smiles\\n and offers of tea, but I was not. I was absent. I was not missed. My father\\n pays no attention to my absence. To my father I have been an absence all my\\n life. Therefore instead of being the womanly warmth at the heart of this house\\n I have been a zero, null, a vacuum towards which all collapses inward, a\\n turbulence, muffled, grey, like a chill draft eddying through the corridors,\\n neglected, vengeful.\\n \\n         7. Night falls, and my father and his new wife cavort in the bedroom.\\n Hand in hand they stroke her womb, watching for it to flicker and blossom.\\n They twine; she laps him in her flesh; they chuckle and moan. These are fair\\n times for them.\\n \\n         8. In a house shaped by destiny like an H I have lived all my life, in a\\n theatre of stone and sun fenced in with miles of wire, spinning my trail from\\n room to room, looming over the servants, the grim, widow-daughter of the\\n dark father. Sundown after sundown, we have faced each other over the\\n mutton, the potatoes, the pumpkin, dull food cooked by dull hands. Is it\\n possible that we spoke? No, we could not have spoken, we must have fronted\\n each other in silence and chewed our way through, time, our eyes, his black\\n eyes and my black eyes inherited from him, roaming blank across their fields\\n of vision. Then, we have retired to sleep, to dream allegories of baulked\\n desire such, as we are blessedly unfitted to interpret; and in the mornings vied\\n in icy asceticism to be the earlier afoot, to lay the fire in the cold grate. Life\\n on the farm.\\n \\n         9. In the shadowy hallway the clock ticks away day and night. I am\\n the one who keeps it wound and who weekly, from sun and almanac, corrects\\n it. Time on the farm is the time of the wide world, neither a jot nor a tittle\\n more or less, Resolutely I beat down the blind, subjective time of the heart,\\n with its spurts of excitement and drags of tedium: my pulse will throb '"
      ]
     },
     "execution_count": 33,
     "metadata": {},
     "output_type": "execute_result"
    }
   ],
   "source": [
    "IHC_novel[0:5000]"
   ]
  },
  {
   "cell_type": "code",
   "execution_count": 17,
   "metadata": {},
   "outputs": [],
   "source": [
    "multiple_sentences = re.split('[?.!]', IHC_novel)"
   ]
  },
  {
   "cell_type": "code",
   "execution_count": 19,
   "metadata": {},
   "outputs": [
    {
     "data": {
      "text/plain": [
       "3880"
      ]
     },
     "execution_count": 19,
     "metadata": {},
     "output_type": "execute_result"
    }
   ],
   "source": [
    "len(multiple_sentences)"
   ]
  },
  {
   "cell_type": "code",
   "execution_count": 27,
   "metadata": {},
   "outputs": [],
   "source": [
    "def syntax_length(text):\n",
    "    sentence_word_count = []\n",
    "    for sentence in text:\n",
    "        count = len(sentence.split())\n",
    "        sentence_word_count.append(count)\n",
    "    return sentence_word_count"
   ]
  },
  {
   "cell_type": "code",
   "execution_count": 28,
   "metadata": {},
   "outputs": [],
   "source": [
    "word_count_sentence = syntax_length(multiple_sentences)"
   ]
  },
  {
   "cell_type": "code",
   "execution_count": 29,
   "metadata": {},
   "outputs": [
    {
     "data": {
      "text/plain": [
       "3880"
      ]
     },
     "execution_count": 29,
     "metadata": {},
     "output_type": "execute_result"
    }
   ],
   "source": [
    "len(word_count_sentence)"
   ]
  },
  {
   "cell_type": "code",
   "execution_count": 30,
   "metadata": {},
   "outputs": [
    {
     "name": "stdout",
     "output_type": "stream",
     "text": [
      "[1, 1, 8, 8, 25, 13, 24, 15, 32, 15, 16, 20, 14, 4, 1, 3, 15, 13, 13, 6, 6, 16, 4, 9, 5, 14, 6, 7, 1, 11, 17, 14, 44, 1, 20, 12, 10, 20, 5, 20, 14, 1, 8, 7, 2, 32, 19, 3, 4, 8, 11, 40, 1, 13, 14, 12, 6, 1, 46, 21, 6, 39, 41, 4, 1, 11, 17, 51, 19, 31, 30, 16, 13, 1, 7, 17, 14, 12, 11, 9, 1, 17, 24, 9, 11, 4, 11, 15, 13, 10, 1, 32, 33, 33, 4, 6, 4, 24, 12, 7, 18, 8, 39, 22, 9, 5, 16, 9, 20, 38, 8, 7, 6, 36, 3, 3, 3, 3, 1, 9, 19, 19, 16, 4, 7, 3, 11, 21, 5, 11, 5, 1, 15, 6, 13, 12, 21, 11, 21, 25, 13, 2, 37, 8, 103, 32, 16, 49, 29, 1, 7, 13, 55, 30, 49, 40, 39, 38, 28, 1, 28, 25, 20, 32, 24, 10, 5, 8, 4, 4, 1, 13, 45, 42, 9, 18, 14, 36, 9, 27, 10, 16, 59, 1, 11, 40, 12, 10, 1, 14, 6, 6, 19, 10, 8, 3, 3, 8, 27, 10, 7, 7, 13, 22, 1, 55, 22, 36, 21, 1, 9, 13, 15, 4, 3, 5, 19, 9, 17, 1, 17, 21, 19, 9, 10, 12, 9, 7, 10, 12, 49, 21, 8, 14, 14, 20, 1, 10, 28, 49, 56, 16, 6, 6, 6, 23, 26, 37, 51, 25, 19, 1, 36, 18, 16, 1, 68, 1, 7, 14, 4, 26, 22, 25, 8, 25, 22, 10, 65, 30, 12, 11, 16, 20, 1, 50, 40, 17, 22, 15, 35, 27, 22, 1, 20, 41, 17, 13, 45, 1, 11, 31, 12, 1, 12, 1, 31, 25, 12, 11, 9, 13, 14, 30, 6, 14, 5, 14, 24, 10, 23, 10, 13, 26, 74, 1, 44, 14, 22, 19, 9, 10, 4, 35, 56, 22, 21, 6, 16, 4, 4, 4, 4, 32, 4, 5, 1, 14, 11, 11, 23, 8, 20, 16, 36, 1, 16, 14, 10, 11, 20, 4, 8, 11, 15, 41, 25, 17, 11, 21, 10, 10, 11, 11, 3, 2, 4, 21, 9, 9, 5, 1, 39, 40, 26, 61, 22, 26, 38, 40, 17, 5, 10, 56, 74, 1, 9, 38, 8, 64, 15, 1, 7, 10, 11, 15, 9, 4, 8, 1, 9, 16, 26, 12, 35, 79, 123, 97, 1, 1, 30, 101, 21, 28, 1, 5, 37, 33, 57, 48, 48, 31, 113, 1, 5, 31, 34, 40, 69, 24, 6, 5, 6, 38, 8, 5, 5, 5, 7, 8, 7, 9, 6, 9, 3, 8, 5, 6, 5, 3, 4, 3, 4, 5, 8, 9, 9, 4, 4, 4, 4, 13, 11, 7, 7, 2, 4, 4, 2, 7, 21, 2, 12, 36, 8, 22, 42, 84, 8, 4, 2, 1, 2, 66, 22, 81, 109, 55, 39, 21, 31, 9, 15, 26, 15, 72, 1, 95, 65, 36, 9, 6, 22, 9, 3, 5, 10, 1, 72, 34, 6, 9, 20, 43, 26, 5, 1, 1, 7, 17, 12, 6, 8, 12, 5, 6, 37, 10, 6, 17, 1, 28, 10, 6, 27, 10, 34, 36, 50, 4, 1, 41, 1, 5, 54, 7, 9, 81, 12, 11, 1, 5, 13, 12, 16, 12, 75, 47, 29, 46, 1, 11, 9, 72, 112, 31, 38, 11, 6, 10, 47, 3, 2, 6, 5, 11, 25, 15, 7, 1, 28, 12, 7, 16, 4, 13, 25, 52, 17, 13, 3, 9, 7, 38, 38, 16, 11, 6, 10, 1, 13, 10, 25, 14, 1, 9, 11, 6, 7, 23, 19, 24, 4, 1, 37, 28, 9, 25, 2, 30, 23, 25, 1, 6, 36, 74, 1, 10, 23, 6, 9, 8, 12, 1, 15, 11, 3, 4, 3, 5, 12, 4, 6, 5, 5, 12, 5, 6, 3, 12, 13, 5, 5, 7, 4, 3, 20, 5, 5, 17, 4, 19, 60, 11, 7, 10, 11, 8, 9, 2, 6, 4, 10, 10, 13, 9, 6, 7, 4, 13, 5, 5, 5, 0, 0, 0, 1, 18, 5, 17, 4, 5, 16, 9, 11, 17, 3, 3, 18, 3, 3, 33, 1, 4, 29, 15, 5, 35, 5, 17, 1, 10, 16, 1, 12, 7, 6, 1, 29, 29, 1, 18, 21, 13, 7, 8, 21, 28, 13, 13, 84, 21, 1, 49, 31, 74, 39, 38, 1, 4, 10, 6, 10, 4, 27, 8, 30, 4, 7, 1, 10, 12, 26, 14, 17, 14, 12, 12, 11, 4, 1, 19, 26, 4, 3, 4, 5, 8, 10, 12, 9, 1, 18, 12, 7, 9, 13, 11, 8, 1, 14, 4, 12, 16, 5, 4, 7, 1, 9, 19, 13, 14, 1, 7, 8, 6, 11, 7, 13, 3, 1, 15, 21, 27, 27, 10, 10, 9, 37, 14, 20, 31, 13, 10, 23, 1, 11, 5, 22, 23, 9, 5, 19, 19, 10, 42, 12, 28, 19, 25, 37, 7, 13, 23, 32, 20, 1, 8, 10, 17, 10, 18, 27, 7, 7, 24, 13, 6, 1, 34, 49, 16, 9, 5, 18, 12, 6, 23, 1, 43, 5, 4, 38, 13, 7, 5, 10, 1, 4, 13, 10, 11, 1, 14, 4, 8, 1, 13, 3, 6, 14, 4, 1, 7, 5, 5, 6, 6, 6, 7, 4, 4, 4, 4, 5, 4, 7, 5, 4, 4, 8, 7, 2, 8, 2, 17, 5, 6, 11, 2, 26, 4, 8, 29, 6, 12, 10, 24, 8, 1, 2, 49, 20, 19, 36, 1, 111, 63, 1, 20, 68, 63, 23, 10, 17, 1, 13, 9, 20, 26, 12, 13, 13, 55, 19, 22, 34, 7, 25, 30, 50, 8, 9, 1, 40, 39, 41, 30, 122, 88, 50, 26, 1, 15, 35, 29, 58, 8, 38, 115, 17, 69, 40, 9, 80, 1, 165, 28, 167, 1, 32, 58, 11, 22, 21, 13, 9, 20, 51, 25, 79, 1, 11, 25, 21, 52, 17, 66, 38, 25, 57, 74, 30, 57, 180, 36, 130, 1, 4, 7, 7, 4, 3, 5, 5, 8, 12, 15, 12, 7, 1, 2, 9, 13, 15, 20, 12, 33, 7, 40, 45, 120, 16, 18, 8, 23, 10, 17, 7, 15, 40, 12, 51, 6, 113, 5, 72, 26, 18, 48, 14, 1, 14, 68, 36, 22, 38, 13, 11, 13, 9, 25, 25, 32, 3, 36, 1, 69, 165, 31, 22, 8, 1, 9, 10, 9, 47, 23, 5, 39, 19, 17, 15, 9, 9, 7, 40, 15, 27, 19, 13, 18, 37, 1, 6, 28, 37, 20, 45, 17, 63, 33, 23, 22, 11, 1, 48, 16, 6, 10, 6, 11, 17, 5, 9, 4, 8, 8, 17, 8, 90, 16, 25, 61, 37, 1, 9, 10, 11, 0, 0, 3, 5, 15, 3, 5, 6, 5, 9, 17, 6, 10, 6, 7, 9, 5, 9, 18, 5, 4, 4, 29, 26, 8, 8, 8, 4, 33, 26, 24, 6, 28, 19, 5, 29, 1, 5, 7, 7, 34, 32, 14, 27, 8, 27, 7, 26, 8, 6, 22, 10, 29, 29, 38, 44, 4, 15, 15, 34, 1, 10, 11, 6, 23, 32, 46, 53, 15, 13, 32, 2, 5, 14, 11, 15, 6, 2, 21, 3, 1, 20, 5, 7, 11, 7, 2, 0, 0, 4, 11, 4, 14, 8, 5, 4, 2, 6, 11, 13, 5, 10, 1, 5, 4, 1, 0, 0, 4, 5, 9, 4, 11, 9, 10, 5, 5, 4, 20, 4, 4, 4, 15, 19, 8, 12, 3, 6, 2, 5, 22, 14, 12, 4, 14, 3, 3, 2, 5, 3, 3, 1, 8, 3, 32, 11, 1, 5, 7, 21, 10, 9, 8, 20, 10, 7, 9, 15, 22, 22, 51, 59, 1, 9, 9, 4, 5, 5, 5, 9, 16, 4, 21, 18, 1, 4, 12, 11, 41, 51, 37, 1, 10, 76, 1, 20, 3, 17, 4, 8, 19, 1, 8, 17, 9, 4, 21, 1, 15, 16, 18, 24, 5, 10, 1, 5, 1, 3, 5, 9, 6, 7, 19, 12, 11, 6, 4, 16, 7, 4, 24, 13, 16, 11, 15, 7, 6, 10, 10, 3, 7, 6, 9, 5, 10, 24, 14, 20, 20, 15, 5, 11, 1, 66, 7, 2, 10, 21, 6, 5, 19, 10, 28, 16, 1, 10, 6, 7, 48, 7, 8, 1, 4, 9, 50, 13, 10, 29, 15, 7, 1, 7, 6, 13, 41, 18, 15, 18, 19, 1, 7, 13, 11, 16, 12, 42, 10, 10, 42, 22, 12, 34, 14, 12, 8, 2, 3, 4, 7, 13, 9, 9, 4, 14, 11, 11, 21, 5, 19, 7, 9, 8, 9, 1, 17, 14, 21, 10, 29, 12, 16, 29, 9, 15, 1, 11, 18, 10, 3, 10, 20, 9, 23, 11, 11, 7, 6, 8, 6, 1, 4, 22, 12, 1, 13, 7, 8, 4, 3, 4, 9, 6, 11, 30, 11, 1, 39, 36, 25, 65, 52, 17, 7, 10, 8, 12, 3, 3, 19, 36, 17, 13, 29, 16, 9, 1, 22, 7, 11, 35, 39, 11, 105, 196, 35, 52, 68, 88, 6, 36, 1, 32, 6, 4, 15, 17, 9, 18, 11, 5, 13, 7, 1, 33, 7, 1, 7, 1, 7, 7, 20, 10, 16, 40, 7, 6, 4, 5, 20, 14, 6, 12, 5, 4, 5, 1, 24, 23, 1, 7, 13, 13, 6, 3, 17, 5, 3, 15, 12, 10, 4, 8, 3, 6, 9, 10, 13, 4, 2, 4, 6, 24, 4, 4, 7, 8, 3, 7, 6, 3, 5, 10, 5, 7, 26, 9, 7, 9, 12, 6, 8, 16, 1, 9, 20, 16, 19, 27, 15, 30, 14, 15, 49, 1, 7, 4, 3, 14, 13, 6, 9, 6, 9, 1, 4, 23, 3, 19, 7, 4, 7, 8, 13, 6, 8, 15, 11, 8, 6, 13, 7, 6, 8, 7, 6, 14, 14, 2, 7, 17, 15, 1, 12, 8, 6, 12, 8, 3, 8, 6, 4, 26, 8, 9, 7, 13, 5, 1, 15, 20, 9, 10, 17, 7, 5, 8, 7, 11, 11, 18, 4, 24, 72, 3, 19, 29, 21, 30, 29, 4, 4, 9, 10, 6, 8, 13, 2, 29, 6, 29, 22, 23, 28, 23, 51, 35, 6, 5, 5, 5, 6, 31, 25, 21, 28, 11, 1, 3, 7, 5, 43, 4, 13, 18, 6, 100, 63, 5, 65, 5, 20, 20, 10, 21, 11, 26, 5, 28, 13, 10, 18, 3, 15, 8, 12, 13, 20, 25, 27, 3, 3, 1, 7, 24, 8, 5, 6, 5, 11, 20, 16, 17, 20, 29, 9, 5, 24, 10, 34, 11, 21, 5, 6, 82, 28, 13, 4, 1, 4, 16, 8, 38, 19, 4, 21, 26, 8, 23, 12, 1, 6, 18, 2, 6, 0, 40, 26, 8, 5, 11, 10, 9, 11, 12, 10, 2, 2, 6, 9, 18, 18, 4, 25, 10, 7, 14, 9, 31, 22, 33, 7, 14, 38, 8, 1, 1, 7, 8, 6, 6, 18, 26, 7, 26, 2, 4, 8, 5, 19, 15, 6, 4, 2, 11, 8, 13, 10, 12, 1, 3, 3, 7, 4, 22, 2, 3, 6, 14, 11, 13, 24, 9, 9, 8, 12, 1, 10, 18, 28, 5, 2, 3, 22, 16, 7, 2, 3, 3, 33, 31, 5, 26, 47, 18, 19, 28, 6, 11, 1, 5, 10, 26, 20, 40, 15, 1, 23, 15, 43, 13, 1, 3, 15, 6, 5, 22, 8, 2, 12, 13, 35, 6, 9, 6, 6, 8, 4, 5, 13, 15, 4, 8, 4, 7, 5, 7, 2, 6, 16, 8, 4, 1, 11, 3, 7, 1, 17, 5, 12, 8, 9, 16, 4, 12, 3, 8, 0, 0, 7, 4, 17, 7, 8, 3, 9, 10, 5, 20, 8, 1, 13, 8, 20, 5, 13, 17, 46, 43, 8, 17, 23, 17, 1, 36, 10, 260, 1, 6, 50, 10, 5, 24, 46, 56, 41, 52, 18, 22, 27, 13, 9, 7, 21, 49, 2, 12, 27, 9, 6, 12, 25, 28, 17, 8, 2, 6, 1, 12, 6, 16, 15, 14, 9, 9, 7, 13, 24, 1, 12, 6, 8, 10, 12, 4, 5, 19, 1, 14, 21, 14, 15, 16, 13, 10, 9, 10, 12, 4, 5, 4, 6, 8, 1, 9, 23, 10, 10, 1, 18, 10, 8, 4, 18, 8, 1, 10, 9, 8, 12, 9, 12, 5, 6, 9, 16, 10, 9, 5, 5, 9, 5, 16, 14, 17, 1, 18, 9, 16, 13, 15, 10, 9, 1, 14, 15, 16, 1, 27, 1, 36, 1, 43, 16, 0, 0, 11, 43, 12, 24, 1, 25, 17, 12, 5, 3, 1, 9, 7, 15, 16, 5, 58, 24, 5, 18, 25, 96, 89, 28, 53, 88, 1, 24, 8, 6, 25, 8, 11, 17, 9, 8, 4, 11, 16, 6, 13, 3, 12, 1, 4, 7, 18, 18, 15, 5, 13, 4, 18, 18, 4, 1, 14, 8, 5, 12, 15, 10, 14, 8, 6, 5, 4, 121, 36, 18, 20, 17, 1, 12, 6, 7, 7, 4, 14, 7, 33, 5, 30, 10, 10, 6, 6, 20, 23, 24, 33, 7, 19, 13, 7, 8, 15, 20, 21, 10, 1, 13, 15, 32, 30, 33, 31, 1, 8, 12, 11, 10, 16, 21, 14, 7, 12, 8, 12, 8, 17, 6, 2, 12, 26, 4, 5, 2, 2, 15, 13, 11, 11, 22, 1, 7, 8, 7, 3, 4, 12, 1, 19, 32, 20, 34, 18, 25, 1, 15, 3, 14, 6, 2, 7, 8, 15, 7, 13, 11, 7, 7, 35, 19, 22, 6, 4, 7, 24, 16, 12, 12, 2, 13, 13, 1, 14, 7, 6, 4, 9, 13, 6, 10, 11, 7, 8, 5, 10, 21, 10, 4, 10, 3, 3, 17, 1, 13, 23, 7, 8, 16, 1, 14, 12, 12, 3, 13, 7, 6, 8, 5, 6, 5, 8, 10, 12, 7, 7, 5, 12, 9, 4, 5, 1, 21, 7, 11, 20, 13, 18, 1, 9, 13, 12, 10, 13, 15, 6, 3, 11, 6, 14, 1, 1, 5, 13, 4, 4, 1, 27, 11, 5, 8, 14, 25, 1, 31, 5, 6, 7, 22, 31, 12, 10, 10, 8, 13, 27, 17, 27, 25, 9, 10, 5, 25, 19, 17, 31, 4, 10, 30, 18, 31, 20, 13, 106, 1, 96, 22, 8, 1, 8, 15, 5, 6, 17, 1, 8, 5, 11, 10, 11, 8, 12, 18, 7, 3, 11, 14, 20, 25, 5, 8, 1, 6, 20, 8, 5, 5, 10, 4, 6, 23, 7, 8, 5, 16, 9, 16, 6, 6, 9, 11, 13, 8, 4, 8, 5, 20, 2, 8, 4, 6, 16, 10, 6, 14, 6, 8, 10, 5, 22, 6, 6, 15, 14, 7, 5, 11, 6, 5, 1, 9, 8, 7, 8, 17, 6, 10, 8, 15, 9, 33, 12, 7, 11, 8, 16, 5, 5, 16, 9, 5, 11, 3, 2, 16, 9, 18, 17, 15, 10, 11, 23, 6, 18, 18, 4, 15, 65, 27, 69, 26, 4, 11, 13, 8, 11, 9, 1, 8, 15, 10, 4, 21, 20, 8, 1, 9, 10, 8, 5, 6, 13, 7, 7, 15, 8, 1, 6, 1, 11, 9, 11, 9, 3, 6, 8, 12, 1, 7, 8, 1, 12, 8, 20, 5, 1, 11, 13, 7, 6, 5, 11, 9, 17, 10, 2, 8, 19, 8, 12, 4, 28, 15, 11, 18, 41, 14, 1, 21, 3, 13, 1, 6, 35, 9, 1, 3, 1, 12, 1, 8, 21, 7, 9, 7, 6, 10, 4, 7, 1, 10, 16, 17, 19, 9, 4, 5, 11, 6, 8, 19, 2, 4, 10, 12, 15, 11, 10, 5, 10, 13, 8, 5, 18, 9, 8, 1, 17, 9, 5, 11, 13, 9, 21, 3, 11, 24, 15, 11, 15, 1, 10, 11, 10, 6, 14, 9, 9, 8, 12, 10, 8, 1, 19, 13, 5, 8, 4, 9, 2, 11, 19, 13, 3, 5, 4, 6, 12, 9, 9, 6, 29, 13, 1, 14, 14, 5, 3, 1, 8, 7, 9, 5, 13, 6, 8, 8, 8, 3, 4, 2, 18, 3, 14, 7, 2, 7, 13, 5, 12, 8, 3, 17, 9, 4, 11, 3, 2, 9, 6, 6, 4, 3, 10, 10, 6, 8, 9, 6, 15, 4, 9, 10, 13, 9, 6, 12, 20, 23, 25, 6, 75, 18, 0, 0, 9, 9, 5, 3, 2, 13, 8, 7, 6, 6, 4, 13, 14, 5, 19, 17, 13, 19, 31, 4, 5, 11, 23, 9, 8, 4, 8, 8, 2, 10, 7, 3, 6, 13, 19, 11, 4, 7, 9, 6, 11, 4, 5, 5, 2, 2, 15, 4, 14, 2, 3, 12, 10, 18, 12, 11, 1, 4, 4, 53, 4, 19, 7, 22, 13, 8, 7, 7, 3, 8, 4, 10, 16, 5, 3, 7, 5, 14, 8, 7, 11, 8, 8, 19, 8, 6, 18, 4, 1, 9, 8, 14, 4, 4, 8, 10, 1, 3, 8, 6, 12, 16, 8, 5, 2, 2, 11, 16, 9, 5, 5, 4, 4, 5, 2, 22, 9, 4, 7, 27, 4, 8, 2, 3, 11, 4, 6, 14, 22, 8, 23, 1, 0, 0, 0, 1, 0, 0, 0, 1, 5, 14, 13, 6, 2, 33, 7, 1, 29, 5, 15, 4, 42, 3, 6, 1, 3, 1, 9, 0, 0, 0, 1, 0, 0, 0, 26, 10, 25, 9, 13, 15, 14, 1, 0, 0, 0, 1, 0, 0, 0, 1, 0, 0, 0, 12, 11, 16, 12, 11, 8, 20, 6, 8, 14, 23, 6, 4, 0, 0, 1, 0, 0, 2, 0, 0, 8, 18, 6, 4, 8, 7, 22, 14, 27, 8, 6, 1, 14, 12, 1, 3, 1, 4, 0, 0, 0, 1, 0, 0, 0, 7, 3, 10, 9, 6, 23, 5, 7, 2, 6, 3, 5, 7, 1, 7, 4, 2, 9, 4, 4, 5, 4, 3, 17, 15, 18, 9, 26, 8, 15, 42, 1, 14, 67, 17, 7, 7, 5, 4, 4, 9, 12, 1, 0, 0, 10, 22, 4, 10, 5, 7, 36, 6, 4, 4, 4, 2, 19, 20, 3, 3, 5, 3, 44, 1, 9, 27, 10, 5, 7, 35, 20, 2, 6, 27, 9, 8, 11, 30, 7, 1, 18, 102, 17, 20, 6, 13, 28, 29, 5, 7, 10, 5, 19, 175, 38, 1, 8, 4, 8, 2, 3, 6, 4, 11, 15, 13, 26, 1, 9, 19, 6, 3, 1, 4, 5, 7, 4, 9, 22, 14, 13, 15, 8, 5, 1, 19, 12, 17, 1, 7, 4, 13, 21, 14, 6, 11, 1, 13, 6, 9, 4, 11, 21, 1, 15, 21, 31, 27, 10, 9, 12, 17, 7, 14, 6, 11, 16, 9, 12, 7, 9, 24, 1, 4, 6, 14, 16, 6, 4, 9, 8, 23, 10, 24, 9, 2, 16, 6, 3, 0, 0, 0, 8, 2, 3, 2, 6, 20, 37, 8, 28, 9, 12, 6, 1, 11, 7, 9, 23, 20, 31, 7, 9, 18, 18, 12, 13, 8, 1, 16, 14, 12, 1, 6, 3, 10, 9, 9, 7, 2, 4, 5, 6, 9, 3, 14, 3, 10, 3, 9, 6, 3, 5, 1, 11, 10, 13, 15, 11, 24, 7, 8, 16, 11, 20, 8, 22, 9, 9, 1, 7, 23, 7, 6, 74, 11, 1, 12, 19, 7, 18, 12, 8, 21, 14, 9, 11, 6, 6, 3, 8, 7, 9, 4, 7, 13, 5, 10, 1, 4, 33, 4, 7, 13, 10, 2, 6, 7, 12, 10, 23, 17, 16, 6, 33, 59, 16, 38, 12, 23, 27, 10, 4, 4, 14, 16, 20, 49, 30, 1, 4, 5, 14, 24, 27, 14, 107, 24, 38, 10, 5, 0, 0, 5, 0, 0, 0, 2, 5, 7, 7, 5, 8, 5, 30, 13, 25, 26, 19, 40, 4, 18, 9, 21, 69, 15, 11, 12, 1, 4, 7, 21, 11, 10, 12, 11, 17, 16, 3, 13, 10, 5, 5, 13, 63, 10, 8, 27, 24, 15, 11, 16, 23, 17, 4, 1, 30, 9, 14, 12, 5, 7, 7, 9, 6, 8, 16, 12, 11, 7, 9, 11, 6, 9, 16, 3, 11, 10, 8, 6, 16, 18, 5, 3, 3, 11, 10, 2, 1, 6, 13, 11, 5, 5, 4, 4, 14, 7, 15, 12, 5, 6, 10, 12, 5, 15, 6, 6, 61, 16, 25, 27, 14, 36, 24, 4, 4, 14, 11, 1, 16, 13, 9, 60, 37, 41, 17, 1, 13, 8, 7, 14, 20, 9, 35, 5, 9, 8, 27, 8, 35, 41, 46, 59, 10, 36, 6, 5, 30, 1, 3, 11, 13, 6, 11, 6, 10, 14, 23, 8, 12, 28, 16, 1, 6, 10, 22, 10, 17, 13, 37, 1, 10, 17, 22, 17, 4, 2, 13, 16, 1, 2, 14, 11, 5, 12, 1, 8, 10, 8, 10, 7, 3, 12, 6, 10, 7, 14, 12, 1, 5, 45, 22, 12, 22, 10, 42, 16, 45, 16, 29, 18, 32, 6, 35, 10, 54, 3, 4, 8, 15, 5, 10, 34, 31, 15, 35, 45, 21, 45, 1, 6, 40, 27, 94, 8, 82, 1, 10, 12, 15, 5, 6, 12, 24, 19, 24, 15, 15, 6, 25, 98, 15, 21, 16, 6, 5, 4, 27, 4, 5, 10, 4, 5, 4, 5, 4, 3, 12, 22, 16, 9, 4, 4, 6, 4, 10, 29, 17, 12, 6, 31, 5, 1, 4, 15, 31, 10, 3, 7, 6, 15, 1, 5, 4, 19, 13, 1, 13, 6, 1, 5, 23, 76, 7, 11, 79, 1, 10, 1, 17, 20, 21, 50, 34, 16, 1, 29, 7, 1, 23, 5, 8, 7, 1, 13, 59, 1, 12, 12, 11, 19, 4, 11, 8, 28, 7, 12, 15, 11, 67, 45, 7, 29, 31, 8, 6, 30, 6, 18, 13, 25, 11, 1, 29, 17, 45, 7, 90, 19, 42, 26, 27, 3, 8, 7, 19, 13, 16, 9, 7, 14, 21, 19, 3, 61, 1, 12, 11, 13, 12, 10, 24, 17, 21, 7, 8, 8, 1, 14, 8, 12, 11, 15, 18, 10, 20, 13, 17, 23, 36, 26, 15, 11, 7, 62, 15, 6, 21, 10, 5, 8, 4, 15, 8, 12, 8, 9, 11, 1, 2, 18, 48, 5, 18, 1, 44, 20, 11, 27, 6, 15, 1, 13, 8, 2, 1, 6, 1, 22, 16, 28, 44, 1, 48, 32, 17, 71, 5, 5, 13, 1, 2, 16, 22, 38, 49, 35, 1, 55, 35, 9, 44, 7, 110, 29, 30, 2, 1, 28, 18, 14, 11, 21, 1, 18, 15, 5, 6, 37, 18, 3, 9, 25, 46, 1, 9, 17, 15, 1, 12, 1, 1, 41, 6, 6, 26, 9, 14, 23, 31, 17, 6, 32, 13, 6, 14, 20, 24, 1, 25, 8, 7, 10, 20, 10, 13, 25, 4, 3, 5, 9, 19, 4, 13, 9, 31, 34, 6, 50, 1, 10, 65, 28, 8, 23, 5, 30, 1, 32, 17, 23, 59, 24, 8, 29, 11, 13, 24, 10, 32, 38, 34, 18, 27, 25, 45, 28, 5, 2, 21, 11, 27, 20, 1, 15, 26, 14, 1, 9, 15, 17, 21, 1, 64, 22, 58, 25, 58, 81, 9, 23, 22, 71, 7, 18, 11, 13, 14, 44, 78, 3, 1, 19, 8, 89, 1, 1, 9, 8, 10, 14, 29, 19, 22, 0]\n"
     ]
    }
   ],
   "source": [
    "print(word_count_sentence)"
   ]
  },
  {
   "cell_type": "code",
   "execution_count": 31,
   "metadata": {},
   "outputs": [
    {
     "ename": "IndexError",
     "evalue": "list index out of range",
     "output_type": "error",
     "traceback": [
      "\u001b[0;31m---------------------------------------------------------------------------\u001b[0m",
      "\u001b[0;31mIndexError\u001b[0m                                Traceback (most recent call last)",
      "\u001b[0;32m<ipython-input-31-9e3bc8eb0659>\u001b[0m in \u001b[0;36m<module>\u001b[0;34m()\u001b[0m\n\u001b[0;32m----> 1\u001b[0;31m \u001b[0mmultiple_sentences\u001b[0m\u001b[0;34m[\u001b[0m\u001b[0;36m3880\u001b[0m\u001b[0;34m]\u001b[0m\u001b[0;34m\u001b[0m\u001b[0m\n\u001b[0m",
      "\u001b[0;31mIndexError\u001b[0m: list index out of range"
     ]
    }
   ],
   "source": []
  },
  {
   "cell_type": "code",
   "execution_count": null,
   "metadata": {},
   "outputs": [],
   "source": []
  }
 ],
 "metadata": {
  "kernelspec": {
   "display_name": "Python 3",
   "language": "python",
   "name": "python3"
  },
  "language_info": {
   "codemirror_mode": {
    "name": "ipython",
    "version": 3
   },
   "file_extension": ".py",
   "mimetype": "text/x-python",
   "name": "python",
   "nbconvert_exporter": "python",
   "pygments_lexer": "ipython3",
   "version": "3.6.5"
  }
 },
 "nbformat": 4,
 "nbformat_minor": 2
}
