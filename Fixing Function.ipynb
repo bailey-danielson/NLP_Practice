{
 "cells": [
  {
   "cell_type": "code",
   "execution_count": 3,
   "metadata": {},
   "outputs": [],
   "source": [
    "def text_reader(text_file):\n",
    "    \n",
    "    \"\"\"Read in a text file and return a string\n",
    "    \n",
    "    Keyword Arguments:\n",
    "    text_file -- string that points to a .txt file on your computer\"\"\"\n",
    "    \n",
    "    lines = []\n",
    "    with open(text_file, 'r') as file:\n",
    "        for line in file:\n",
    "            lines.append(line)\n",
    "    return \" \".join(lines)"
   ]
  },
  {
   "cell_type": "code",
   "execution_count": 4,
   "metadata": {},
   "outputs": [],
   "source": [
    "IHC = '/Users/BaileyDanielson/Documents/Python/IHC.txt'"
   ]
  },
  {
   "cell_type": "code",
   "execution_count": 5,
   "metadata": {},
   "outputs": [],
   "source": [
    "IHC_book = text_reader(IHC)"
   ]
  },
  {
   "cell_type": "code",
   "execution_count": 19,
   "metadata": {},
   "outputs": [],
   "source": [
    "def leng_sentences(text):\n",
    "    # import\n",
    "    import re\n",
    "    \n",
    "    # split sentences\n",
    "    multiple_sentences = re.split('[?.!]', text)\n",
    "    \n",
    "    # find word count per sentence\n",
    "    def syntax_length(text):\n",
    "        sentence_word_count = []\n",
    "        for sentence in text:\n",
    "            count = len(sentence.split())\n",
    "            sentence_word_count.append(count)\n",
    "        return sentence_word_count\n",
    "    word_count_sentence = syntax_length(multiple_sentences)\n",
    "    \n",
    "    # assign index\n",
    "    sentence_number = list(range(0, len(multiple_sentences)))\n",
    "    \n",
    "    # remove sentences that are unneeded or not real\n",
    "    s_leng = [i for i in word_count_sentence if i > 1]\n",
    "    \n",
    "    # re-assign index\n",
    "    s_index = list(range(0, len(s_leng)))\n",
    "\n",
    "    print(\"New Variables: sentence length list: {}, sentence index list: {}\".format(len(s_leng), len(s_index)))\n",
    "    \n",
    "    return s_leng, s_index"
   ]
  },
  {
   "cell_type": "code",
   "execution_count": 20,
   "metadata": {},
   "outputs": [
    {
     "name": "stdout",
     "output_type": "stream",
     "text": [
      "New Variables: sentence length list: 3526, sentence index list: 3526\n"
     ]
    }
   ],
   "source": [
    "sent_len, sent_index = leng_sentences(IHC_book)"
   ]
  },
  {
   "cell_type": "code",
   "execution_count": 21,
   "metadata": {},
   "outputs": [
    {
     "data": {
      "text/plain": [
       "[8, 8, 25, 13, 24, 15, 32, 15, 16, 20, 14, 4, 3, 15, 13, 13, 6, 6, 16, 4]"
      ]
     },
     "execution_count": 21,
     "metadata": {},
     "output_type": "execute_result"
    }
   ],
   "source": [
    "sent_len[:20]"
   ]
  },
  {
   "cell_type": "code",
   "execution_count": 24,
   "metadata": {},
   "outputs": [
    {
     "name": "stdout",
     "output_type": "stream",
     "text": [
      "Variable         Type        Data/Info\n",
      "--------------------------------------\n",
      "IHC              str         /Users/BaileyDanielson/Documents/Python/IHC.txt\n",
      "IHC_book         str         \f",
      "J.M. Coetzee\\n In the He<...>                     \\n \f",
      "\n",
      "leng_sentences   function    <function leng_sentences at 0x104ddc400>\n",
      "s_index          list        n=3526\n",
      "s_leng           list        n=3526\n",
      "sent_index       list        n=3526\n",
      "sent_len         list        n=3526\n",
      "text_reader      function    <function text_reader at 0x104ddc048>\n"
     ]
    }
   ],
   "source": [
    "%whos"
   ]
  }
 ],
 "metadata": {
  "kernelspec": {
   "display_name": "Python 3",
   "language": "python",
   "name": "python3"
  },
  "language_info": {
   "codemirror_mode": {
    "name": "ipython",
    "version": 3
   },
   "file_extension": ".py",
   "mimetype": "text/x-python",
   "name": "python",
   "nbconvert_exporter": "python",
   "pygments_lexer": "ipython3",
   "version": "3.6.5"
  }
 },
 "nbformat": 4,
 "nbformat_minor": 2
}
