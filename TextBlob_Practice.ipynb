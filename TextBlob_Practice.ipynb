{
 "cells": [
  {
   "cell_type": "markdown",
   "metadata": {},
   "source": [
    "# TextBlob Practice"
   ]
  },
  {
   "cell_type": "code",
   "execution_count": 225,
   "metadata": {},
   "outputs": [],
   "source": [
    "from textblob import TextBlob\n",
    "from my_functions import text_reader\n",
    "import matplotlib.pyplot as plt"
   ]
  },
  {
   "cell_type": "code",
   "execution_count": 226,
   "metadata": {},
   "outputs": [],
   "source": [
    "text = \"Tiffany and I are in a cute coffee shop. The coffee is good. We like Python\""
   ]
  },
  {
   "cell_type": "code",
   "execution_count": 227,
   "metadata": {},
   "outputs": [],
   "source": [
    "analysis = TextBlob(text)"
   ]
  },
  {
   "cell_type": "code",
   "execution_count": 228,
   "metadata": {},
   "outputs": [
    {
     "data": {
      "text/plain": [
       "textblob.blob.TextBlob"
      ]
     },
     "execution_count": 228,
     "metadata": {},
     "output_type": "execute_result"
    }
   ],
   "source": [
    "type(analysis)"
   ]
  },
  {
   "cell_type": "code",
   "execution_count": 229,
   "metadata": {},
   "outputs": [
    {
     "data": {
      "text/plain": [
       "[('Tiffany', 'NN'),\n",
       " ('and', 'CC'),\n",
       " ('I', 'PRP'),\n",
       " ('are', 'VBP'),\n",
       " ('in', 'IN'),\n",
       " ('a', 'DT'),\n",
       " ('cute', 'JJ'),\n",
       " ('coffee', 'NN'),\n",
       " ('shop', 'NN'),\n",
       " ('The', 'DT'),\n",
       " ('coffee', 'NN'),\n",
       " ('is', 'VBZ'),\n",
       " ('good', 'JJ'),\n",
       " ('We', 'PRP'),\n",
       " ('like', 'VBP'),\n",
       " ('Python', 'NNP')]"
      ]
     },
     "execution_count": 229,
     "metadata": {},
     "output_type": "execute_result"
    }
   ],
   "source": [
    "analysis.tags"
   ]
  },
  {
   "cell_type": "code",
   "execution_count": 230,
   "metadata": {},
   "outputs": [
    {
     "data": {
      "text/plain": [
       "Sentiment(polarity=0.6, subjectivity=0.8)"
      ]
     },
     "execution_count": 230,
     "metadata": {},
     "output_type": "execute_result"
    }
   ],
   "source": [
    "analysis.sentiment"
   ]
  },
  {
   "cell_type": "code",
   "execution_count": 231,
   "metadata": {},
   "outputs": [
    {
     "data": {
      "text/plain": [
       "[Sentence(\"Tiffany and I are in a cute coffee shop.\"),\n",
       " Sentence(\"The coffee is good.\"),\n",
       " Sentence(\"We like Python\")]"
      ]
     },
     "execution_count": 231,
     "metadata": {},
     "output_type": "execute_result"
    }
   ],
   "source": [
    "analysis.sentences"
   ]
  },
  {
   "cell_type": "code",
   "execution_count": 232,
   "metadata": {},
   "outputs": [
    {
     "data": {
      "text/plain": [
       "'fr'"
      ]
     },
     "execution_count": 232,
     "metadata": {},
     "output_type": "execute_result"
    }
   ],
   "source": [
    "sentence = TextBlob(\"je suis tres heuresse et je me suis amusee\")\n",
    "sentence.detect_language()"
   ]
  },
  {
   "cell_type": "code",
   "execution_count": 233,
   "metadata": {},
   "outputs": [
    {
     "data": {
      "text/plain": [
       "TextBlob(\"I am very happy and I had fun\")"
      ]
     },
     "execution_count": 233,
     "metadata": {},
     "output_type": "execute_result"
    }
   ],
   "source": [
    "sentence.translate(to='en')"
   ]
  },
  {
   "cell_type": "code",
   "execution_count": 234,
   "metadata": {},
   "outputs": [],
   "source": [
    "IHC_novel = text_reader('/Users/BaileyDanielson/Documents/Python/IHC.txt')"
   ]
  },
  {
   "cell_type": "code",
   "execution_count": 235,
   "metadata": {},
   "outputs": [
    {
     "data": {
      "text/plain": [
       "str"
      ]
     },
     "execution_count": 235,
     "metadata": {},
     "output_type": "execute_result"
    }
   ],
   "source": [
    "type(IHC_novel)"
   ]
  },
  {
   "cell_type": "code",
   "execution_count": 236,
   "metadata": {},
   "outputs": [],
   "source": [
    "IHC_analysis = TextBlob(IHC_novel)"
   ]
  },
  {
   "cell_type": "code",
   "execution_count": 237,
   "metadata": {},
   "outputs": [],
   "source": [
    "IHC_sentences = IHC_analysis.sentences"
   ]
  },
  {
   "cell_type": "code",
   "execution_count": 238,
   "metadata": {},
   "outputs": [
    {
     "data": {
      "text/plain": [
       "3797"
      ]
     },
     "execution_count": 238,
     "metadata": {},
     "output_type": "execute_result"
    }
   ],
   "source": [
    "len(IHC_sentences)"
   ]
  },
  {
   "cell_type": "code",
   "execution_count": 239,
   "metadata": {},
   "outputs": [
    {
     "data": {
      "text/plain": [
       "[Sentence(\"\n",
       " J.M.\"), Sentence(\"Coetzee\n",
       "  In the Heart of the Country\n",
       "  \n",
       "  \n",
       "  \n",
       "  \n",
       "  1.\"), Sentence(\"Today my father brought home his new bride.\"), Sentence(\"They came clip-clop across\n",
       "  the flats in a dog-cart drawn by a horse with an ostrich-plume waving on its\n",
       "  forehead, dusty after the long haul.\"), Sentence(\"Or perhaps they were drawn by two\n",
       "  plumed donkeys, that is also possible.\"), Sentence(\"My father wore his black swallowtail\n",
       "  coat and stovepipe hat, his bride a wide-brimmed sunhat and a white dress\n",
       "  tight at waist and throat.\"), Sentence(\"More detail I cannot give unless I begin to\n",
       "  embroider, for I was not watching.\"), Sentence(\"I was in my room, in the emerald semi-\n",
       "  dark of the shuttered late afternoon, reading a book or, more likely, supine\n",
       "  with a damp towel over my eyes fighting a migraine.\"), Sentence(\"I am the one who stays\n",
       "  in her room reading or writing or fighting migraines.\"), Sentence(\"The colonies are full of\n",
       "  girls like that, but none, I think, so extreme as I.\"), Sentence(\"My father is the one who\n",
       "  paces the floorboards back and forth, back and forth In his slow black boots.\"), Sentence(\"And then, for a third, there is the new wife, who lies late abed.\"), Sentence(\"Those are the\n",
       "  antagonists.\"), Sentence(\"2.\"), Sentence(\"The new wife.\"), Sentence(\"The new wife is a lazy big-boned voluptuous feline\n",
       "  woman with a wide slow-smiling mouth.\"), Sentence(\"Her eyes are black and shrewd like\n",
       "  two berries, two shrewd black berries.\"), Sentence(\"She is a big woman with fine wrists\n",
       "  and long plump tapering fingers.\"), Sentence(\"She eats her food with relish.\"), Sentence(\"She sleeps and\n",
       "  eats and lazes.\"), Sentence(\"She sticks out her long red tongue and licks the sweet mutton-\n",
       "  fat, from her lips.\"), Sentence(\"\"Ah, I like that!\"\"), Sentence(\"she says, and smiles and rolls her eyes.\"), Sentence(\"I\n",
       "  watch her mouth, mesmerized.\"), Sentence(\"Then she turns on me the wide smiling mouth\n",
       "  and the shrewd, black eyes.\")]"
      ]
     },
     "execution_count": 239,
     "metadata": {},
     "output_type": "execute_result"
    }
   ],
   "source": [
    "IHC_sentences[:25]"
   ]
  },
  {
   "cell_type": "code",
   "execution_count": 240,
   "metadata": {},
   "outputs": [],
   "source": [
    "for sentence in IHC_sentences:\n",
    "    sentences_analysis = TextBlob(str(sentence))\n",
    "    sentences_analysis.sentiment.polarity"
   ]
  },
  {
   "cell_type": "code",
   "execution_count": 241,
   "metadata": {},
   "outputs": [],
   "source": [
    "polarity_list = [TextBlob(str(sentence)).sentiment.polarity for sentence in IHC_sentences]"
   ]
  },
  {
   "cell_type": "code",
   "execution_count": 242,
   "metadata": {},
   "outputs": [
    {
     "data": {
      "text/plain": [
       "3797"
      ]
     },
     "execution_count": 242,
     "metadata": {},
     "output_type": "execute_result"
    }
   ],
   "source": [
    "len(polarity_list)"
   ]
  },
  {
   "cell_type": "code",
   "execution_count": 243,
   "metadata": {},
   "outputs": [
    {
     "data": {
      "image/png": "[encoded data removed]",
      "text/plain": [
       "<Figure size 1200x480 with 1 Axes>"
      ]
     },
     "metadata": {},
     "output_type": "display_data"
    }
   ],
   "source": [
    "plt.figure(figsize=(15, 6), dpi=80, facecolor='w', edgecolor='k')\n",
    "plt.plot(list(range(0, len(polarity_list))), polarity_list) \n",
    "plt.show()"
   ]
  },
  {
   "cell_type": "markdown",
   "metadata": {},
   "source": [
    "# Polarity Function"
   ]
  },
  {
   "cell_type": "code",
   "execution_count": 244,
   "metadata": {},
   "outputs": [],
   "source": [
    "def polarity_sentences(text):\n",
    "    \n",
    "    #import functions\n",
    "    from textblob import TextBlob\n",
    "    \n",
    "    #split text into sentences\n",
    "    sentences = TextBlob(text).sentences\n",
    "\n",
    "    #create list\n",
    "    polarities = []\n",
    "\n",
    "    #function\n",
    "    for sentence in sentences:\n",
    "        sentences_analysis = TextBlob(str(sentence)).sentiment.polarity\n",
    "        polarities.append(sentences_analysis)\n",
    "        polar = TextBlob(str(sentence)).sentiment.polarity\n",
    "\n",
    "    print(\"Overall Polarity: {}, Polarities (first 10): {}\".format(polar, polarities[:9]))\n",
    "    return polar, polarities"
   ]
  },
  {
   "cell_type": "code",
   "execution_count": 245,
   "metadata": {},
   "outputs": [
    {
     "name": "stdout",
     "output_type": "stream",
     "text": [
      "Overall Polarity: -0.25, Polarities (first 10): [0.0, 0.0, 0.13636363636363635, -0.225, 0.0, -0.11507936507936507, 0.5, 0.012500000000000011, 0.0]\n"
     ]
    }
   ],
   "source": [
    "polars = polarity_sentences(IHC_novel)"
   ]
  },
  {
   "cell_type": "code",
   "execution_count": 246,
   "metadata": {},
   "outputs": [],
   "source": [
    "lol = \"I love ice cream. Ice cream is great. It is delicious. It's awesome!\""
   ]
  },
  {
   "cell_type": "code",
   "execution_count": 247,
   "metadata": {},
   "outputs": [
    {
     "name": "stdout",
     "output_type": "stream",
     "text": [
      "Overall Polarity: 1.0, Polarities (first 10): [0.5, 0.8, 1.0, 1.0]\n"
     ]
    },
    {
     "data": {
      "text/plain": [
       "(1.0, [0.5, 0.8, 1.0, 1.0])"
      ]
     },
     "execution_count": 247,
     "metadata": {},
     "output_type": "execute_result"
    }
   ],
   "source": [
    "polarity_sentences(lol)"
   ]
  },
  {
   "cell_type": "code",
   "execution_count": 248,
   "metadata": {},
   "outputs": [
    {
     "data": {
      "text/plain": [
       "Sentiment(polarity=0.825, subjectivity=0.8375)"
      ]
     },
     "execution_count": 248,
     "metadata": {},
     "output_type": "execute_result"
    }
   ],
   "source": [
    "TextBlob(lol).sentiment"
   ]
  },
  {
   "cell_type": "code",
   "execution_count": 249,
   "metadata": {},
   "outputs": [],
   "source": [
    "def subjectivity_sentences(text):\n",
    "    \n",
    "    #import functions\n",
    "    from textblob import TextBlob\n",
    "    \n",
    "    #split text into sentences\n",
    "    sentences = TextBlob(text).sentences\n",
    "\n",
    "    #create list\n",
    "    subjectivities = []\n",
    "\n",
    "    #function\n",
    "    for sentence in sentences:\n",
    "        sentences_analysis = TextBlob(str(sentence)).sentiment.subjectivity\n",
    "        subjectivities.append(sentences_analysis)\n",
    "        subjectiveness = TextBlob(str(sentence)).sentiment.subjectivity\n",
    "\n",
    "    print(\"Overall Subjectiveness: {}, Subjectivities (first 10): {}\".format(subjectiveness, subjectivities[:9]))\n",
    "    return subjectiveness, subjectivities"
   ]
  },
  {
   "cell_type": "code",
   "execution_count": 250,
   "metadata": {},
   "outputs": [
    {
     "name": "stdout",
     "output_type": "stream",
     "text": [
      "Overall Subjectiveness: 1.0, Subjectivities (first 10): [0.6, 0.75, 1.0, 1.0]\n"
     ]
    }
   ],
   "source": [
    "lol_sub = subjectivity_sentences(lol)"
   ]
  },
  {
   "cell_type": "code",
   "execution_count": 251,
   "metadata": {},
   "outputs": [
    {
     "name": "stdout",
     "output_type": "stream",
     "text": [
      "Overall Subjectiveness: 0.5, Subjectivities (first 10): [0.0, 0.0, 0.45454545454545453, 0.5, 1.0, 0.2396825396825397, 0.5, 0.625, 0.0]\n"
     ]
    }
   ],
   "source": [
    "IHC_sub = subjectivity_sentences(IHC_novel)"
   ]
  },
  {
   "cell_type": "markdown",
   "metadata": {},
   "source": [
    "# Removing Entry Numbers/Sentences < 1"
   ]
  },
  {
   "cell_type": "code",
   "execution_count": 281,
   "metadata": {},
   "outputs": [],
   "source": [
    "def remove_chapter_numbers(text):\n",
    "    #import functions\n",
    "    from textblob import TextBlob\n",
    "    \n",
    "    #split text into sentences\n",
    "    sentences = TextBlob(text).sentences\n",
    "    \n",
    "    #function\n",
    "    for sentence in sentences:\n",
    "        if len(sentence.split()) > 1:\n",
    "            sentences.append(sentence)\n",
    "    return \" \".join(sentences) "
   ]
  },
  {
   "cell_type": "code",
   "execution_count": 282,
   "metadata": {},
   "outputs": [],
   "source": [
    "short_sents = \"Hi! Hey, Pal! Howdy! What's good? lol!\""
   ]
  },
  {
   "cell_type": "code",
   "execution_count": 283,
   "metadata": {},
   "outputs": [],
   "source": [
    "new_ss = []\n",
    "for sentence in short_sents:\n",
    "    if len(sentence.split()) > 1:\n",
    "        new_ss.append(sentence)\n",
    "    new_shorts = \" \".join(new_ss)"
   ]
  },
  {
   "cell_type": "code",
   "execution_count": null,
   "metadata": {},
   "outputs": [],
   "source": []
  }
 ],
 "metadata": {
  "kernelspec": {
   "display_name": "Python 3",
   "language": "python",
   "name": "python3"
  },
  "language_info": {
   "codemirror_mode": {
    "name": "ipython",
    "version": 3
   },
   "file_extension": ".py",
   "mimetype": "text/x-python",
   "name": "python",
   "nbconvert_exporter": "python",
   "pygments_lexer": "ipython3",
   "version": "3.6.5"
  }
 },
 "nbformat": 4,
 "nbformat_minor": 2
}
