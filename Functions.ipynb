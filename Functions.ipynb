{
 "cells": [
  {
   "cell_type": "markdown",
   "metadata": {},
   "source": [
    "# FUNCTIONS"
   ]
  },
  {
   "cell_type": "markdown",
   "metadata": {},
   "source": [
    "# text_reader"
   ]
  },
  {
   "cell_type": "code",
   "execution_count": 5,
   "metadata": {},
   "outputs": [],
   "source": [
    "def text_reader(text_file):\n",
    "    \n",
    "    \"\"\"Read in a text file and return a string\n",
    "    \n",
    "    Keyword Arguments:\n",
    "    text_file -- string that points to a .txt file on your computer\"\"\"\n",
    "    \n",
    "    lines = []\n",
    "    with open(text_file, 'r') as file:\n",
    "        for line in file:\n",
    "            lines.append(line)\n",
    "    return \" \".join(lines) "
   ]
  },
  {
   "cell_type": "markdown",
   "metadata": {},
   "source": [
    "# clean_text"
   ]
  },
  {
   "cell_type": "code",
   "execution_count": 6,
   "metadata": {},
   "outputs": [],
   "source": [
    "def clean_and_remove_stops(lines):\n",
    "\n",
    "    \"\"\"Remove numbers and punctuation, and standardize case\n",
    "\n",
    "    Keyword Arguments:\n",
    "    lines: string of text\"\"\"\n",
    "    \n",
    "    # import\n",
    "    import re\n",
    "    from nltk.corpus import stopwords\n",
    "    \n",
    "    # create set of stop words\n",
    "    stop = set(stopwords.words('english'))\n",
    "    \n",
    "    lower_characters = lines.lower()\n",
    "    approved_words = []\n",
    "    white_list = set('abcdefghijklmnopqrstuvwxyz ')\n",
    "    \n",
    "    for word in lower_characters.split():\n",
    "        if word not in stop:\n",
    "            clean_word = re.sub(r'[^a-z ]+', '', word)\n",
    "            approved_words.append(clean_word)\n",
    "            \n",
    "    return \" \".join(approved_words)\n",
    "    print (#append word(s) to stopword set: \n",
    "            \"\"\"stop.update([\"string\" , \"string\", \"string\"])\"\"\")"
   ]
  },
  {
   "cell_type": "markdown",
   "metadata": {},
   "source": [
    "# sentence lengths"
   ]
  },
  {
   "cell_type": "code",
   "execution_count": 7,
   "metadata": {},
   "outputs": [],
   "source": [
    "def leng_sentences(text):\n",
    "    # import\n",
    "    import re\n",
    "    \n",
    "    # split sentences\n",
    "    multiple_sentences = re.split('[?.!]', text)\n",
    "    \n",
    "    # find word count per sentence\n",
    "    def syntax_length(text):\n",
    "        sentence_word_count = []\n",
    "        for sentence in text:\n",
    "            count = len(sentence.split())\n",
    "            sentence_word_count.append(count)\n",
    "        return sentence_word_count\n",
    "    word_count_sentence = syntax_length(multiple_sentences)\n",
    "    \n",
    "    # assign index\n",
    "    sentence_number = list(range(0, len(multiple_sentences)))\n",
    "    \n",
    "    # remove sentences that are unneeded or not real\n",
    "    s_leng = [i for i in word_count_sentence if i > 1]\n",
    "    \n",
    "    # re-assign index\n",
    "    s_index = list(range(0, len(s_leng)))\n",
    "    \n",
    "    print(\"New Variables: s_leng, s_index\")"
   ]
  },
  {
   "cell_type": "code",
   "execution_count": null,
   "metadata": {},
   "outputs": [],
   "source": []
  }
 ],
 "metadata": {
  "kernelspec": {
   "display_name": "Python 3",
   "language": "python",
   "name": "python3"
  },
  "language_info": {
   "codemirror_mode": {
    "name": "ipython",
    "version": 3
   },
   "file_extension": ".py",
   "mimetype": "text/x-python",
   "name": "python",
   "nbconvert_exporter": "python",
   "pygments_lexer": "ipython3",
   "version": "3.6.5"
  }
 },
 "nbformat": 4,
 "nbformat_minor": 2
}
