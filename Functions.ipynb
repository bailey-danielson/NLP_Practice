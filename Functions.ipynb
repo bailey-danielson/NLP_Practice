{
 "cells": [
  {
   "cell_type": "markdown",
   "metadata": {},
   "source": [
    "# FUNCTIONS"
   ]
  },
  {
   "cell_type": "markdown",
   "metadata": {},
   "source": [
    "# text reader"
   ]
  },
  {
   "cell_type": "code",
   "execution_count": 3,
   "metadata": {},
   "outputs": [],
   "source": [
    "def text_reader(text_file):\n",
    "    \n",
    "    \"\"\"Read in a text file and return a string\n",
    "    \n",
    "    Keyword Arguments:\n",
    "    text_file -- string that points to a .txt file on your computer\"\"\"\n",
    "    \n",
    "    lines = []\n",
    "    with open(text_file, 'r') as file:\n",
    "        for line in file:\n",
    "            lines.append(line)\n",
    "    return \" \".join(lines) "
   ]
  },
  {
   "cell_type": "markdown",
   "metadata": {},
   "source": [
    "# clean and remove stops"
   ]
  },
  {
   "cell_type": "code",
   "execution_count": 4,
   "metadata": {},
   "outputs": [],
   "source": [
    "def clean_and_remove_stops(lines):\n",
    "\n",
    "    \"\"\"Remove numbers and punctuation, and standardize case\n",
    "\n",
    "    Keyword Arguments:\n",
    "    lines: string of text\"\"\"\n",
    "    \n",
    "    # import\n",
    "    import re\n",
    "    from nltk.corpus import stopwords\n",
    "    \n",
    "    # create set of stop words\n",
    "    stop = set(stopwords.words('english'))\n",
    "    \n",
    "    lower_characters = lines.lower()\n",
    "    approved_words = []\n",
    "    white_list = set('abcdefghijklmnopqrstuvwxyz ')\n",
    "    \n",
    "    for word in lower_characters.split():\n",
    "        if word not in stop:\n",
    "            clean_word = re.sub(r'[^a-z ]+', '', word)\n",
    "            approved_words.append(clean_word)\n",
    "            \n",
    "    return approved_words\n",
    "    print (#append word(s) to stopword set: \n",
    "            \"\"\"stop.update([\"string\" , \"string\", \"string\"])\"\"\")"
   ]
  },
  {
   "cell_type": "markdown",
   "metadata": {},
   "source": [
    "# basic clean text"
   ]
  },
  {
   "cell_type": "code",
   "execution_count": 5,
   "metadata": {},
   "outputs": [],
   "source": [
    "def clean_text(lines):\n",
    "\n",
    "    \"\"\"Remove numbers and punctuation, and standardize case\n",
    "\n",
    "    Keyword Arguments:\n",
    "    lines: string of text\"\"\"\n",
    "    \n",
    "    lower_characters = lines.lower()\n",
    "    approved_characters = []\n",
    "    white_list = set('abcdefghijklmnopqrstuvwxyz ')\n",
    "    \n",
    "    for character in lower_characters:\n",
    "        if character in white_list:\n",
    "            approved_characters.append(character)\n",
    "            \n",
    "    return \"\".join(approved_characters)"
   ]
  },
  {
   "cell_type": "markdown",
   "metadata": {},
   "source": [
    "# sentence lengths"
   ]
  },
  {
   "cell_type": "code",
   "execution_count": 6,
   "metadata": {},
   "outputs": [],
   "source": [
    "def syntax_length(sentences_list):\n",
    "        sentence_word_count = []\n",
    "        for sentence in sentences_list:\n",
    "            count = len(sentence.split())\n",
    "            sentence_word_count.append(count)\n",
    "        return sentence_word_count"
   ]
  },
  {
   "cell_type": "code",
   "execution_count": 7,
   "metadata": {},
   "outputs": [],
   "source": [
    "def leng_sentences(text):\n",
    "    # import\n",
    "    import re\n",
    "    \n",
    "    # split sentences\n",
    "    multiple_sentences = re.split('[?.!]', text)\n",
    "    \n",
    "    # find word count per sentence\n",
    "    def syntax_length(text):\n",
    "        sentence_word_count = []\n",
    "        for sentence in text:\n",
    "            count = len(sentence.split())\n",
    "            sentence_word_count.append(count)\n",
    "        return sentence_word_count\n",
    "    word_count_sentence = syntax_length(multiple_sentences)\n",
    "    \n",
    "    # assign index\n",
    "    sentence_number = list(range(0, len(multiple_sentences)))\n",
    "    \n",
    "    # remove sentences that are unneeded or not real\n",
    "    s_leng = [i for i in word_count_sentence if i > 1]\n",
    "    \n",
    "    # re-assign index\n",
    "    s_index = list(range(0, len(s_leng)))\n",
    "\n",
    "    print(\"New Variables: sentence length list: {}, sentence index list: {}\".format(len(s_leng), len(s_index)))\n",
    "    \n",
    "    return s_leng, s_index"
   ]
  },
  {
   "cell_type": "markdown",
   "metadata": {},
   "source": [
    "# polarity"
   ]
  },
  {
   "cell_type": "code",
   "execution_count": 8,
   "metadata": {},
   "outputs": [],
   "source": [
    "def polarity_sentences(text):\n",
    "    \n",
    "    #import functions\n",
    "    from textblob import TextBlob\n",
    "    \n",
    "    #split text into sentences\n",
    "    sentences = TextBlob(text).sentences\n",
    "\n",
    "    #create list\n",
    "    polarities = []\n",
    "\n",
    "    #function\n",
    "    for sentence in sentences:\n",
    "        sentences_analysis = TextBlob(str(sentence)).sentiment.polarity\n",
    "        polarities.append(sentences_analysis)\n",
    "        polar = TextBlob(str(sentence)).sentiment.polarity\n",
    "\n",
    "    print(\"Overall Polarity: {}, Polarities (first 10): {}\".format(polar, polarities[:9]))\n",
    "    return polar, polarities"
   ]
  },
  {
   "cell_type": "code",
   "execution_count": 9,
   "metadata": {},
   "outputs": [],
   "source": [
    "def polarity_sentences_list(sentences_list):\n",
    "    \n",
    "    #import functions\n",
    "    from textblob import TextBlob\n",
    "\n",
    "    #create list\n",
    "    polarities = []\n",
    "\n",
    "    #function\n",
    "    for sentence in sentences_list:\n",
    "        sentences_analysis = TextBlob(str(sentence)).sentiment.polarity\n",
    "        polarities.append(sentences_analysis)\n",
    "\n",
    "    return polarities"
   ]
  },
  {
   "cell_type": "markdown",
   "metadata": {},
   "source": [
    "# subjectivity"
   ]
  },
  {
   "cell_type": "code",
   "execution_count": 10,
   "metadata": {},
   "outputs": [],
   "source": [
    "def subjectivity_sentences(text):\n",
    "    \n",
    "    #import functions\n",
    "    from textblob import TextBlob\n",
    "    \n",
    "    #split text into sentences\n",
    "    sentences = TextBlob(text).sentences\n",
    "\n",
    "    #create list\n",
    "    subjectivities = []\n",
    "\n",
    "    #function\n",
    "    for sentence in sentences:\n",
    "        sentences_analysis = TextBlob(str(sentence)).sentiment.subjectivity\n",
    "        subjectivities.append(sentences_analysis)\n",
    "        subjectiveness = TextBlob(str(sentence)).sentiment.subjectivity\n",
    "\n",
    "    print(\"Overall Subjectiveness: {}, Subjectivities (first 10): {}\".format(subjectiveness, subjectivities[:9]))\n",
    "    return subjectiveness, subjectivities"
   ]
  },
  {
   "cell_type": "code",
   "execution_count": 11,
   "metadata": {},
   "outputs": [],
   "source": [
    "def subjectivity_sentences_list(sentences_list):\n",
    "    \n",
    "    #import functions\n",
    "    from textblob import TextBlob\n",
    "\n",
    "    #create list\n",
    "    subjectivities = []\n",
    "\n",
    "    #function\n",
    "    for sentence in sentences_list:\n",
    "        sentences_analysis = TextBlob(str(sentence)).sentiment.subjectivity\n",
    "        subjectivities.append(sentences_analysis)\n",
    "\n",
    "    return subjectivities"
   ]
  },
  {
   "cell_type": "markdown",
   "metadata": {},
   "source": [
    "# remove minuscule sentences"
   ]
  },
  {
   "cell_type": "code",
   "execution_count": 12,
   "metadata": {},
   "outputs": [],
   "source": [
    "def remove_sentences_less_than_2(text):\n",
    "    \n",
    "    #import functions\n",
    "    from textblob import TextBlob\n",
    "    \n",
    "    #split text into sentences\n",
    "    sentences = TextBlob(text).sentences\n",
    "    \n",
    "    #list comprehension\n",
    "    full_sentences = [str(sentence) for sentence in sentences if len(sentence.split()) > 1]\n",
    "    \n",
    "    print(\"Number of Sentences:\", len(full_sentences))\n",
    "    return (full_sentences)"
   ]
  },
  {
   "cell_type": "markdown",
   "metadata": {},
   "source": [
    "# split text by section/chapter"
   ]
  },
  {
   "cell_type": "code",
   "execution_count": 13,
   "metadata": {},
   "outputs": [],
   "source": [
    "def split_text(text , split_keyword):\n",
    "\n",
    "    \"\"\"split text based on keyword\n",
    "    \n",
    "    text: text\n",
    "    \n",
    "    returns: split text\"\"\"\n",
    "    \n",
    "    #funtion\n",
    "    text_sections = text.split(split_keyword)\n",
    "    \n",
    "    print(\"Number of Sections:\" , len(text_sections))\n",
    "    return text_sections"
   ]
  },
  {
   "cell_type": "code",
   "execution_count": 14,
   "metadata": {},
   "outputs": [],
   "source": [
    "def split_by_chapter_number(text):\n",
    "    \n",
    "    \"\"\"split text based on float chapter number\n",
    "    \n",
    "    text: text\n",
    "    \n",
    "    returns: dictionary with every chapter\"\"\"\n",
    "    \n",
    "    #create empty list\n",
    "    chapter_dictionary = defaultdict(list)\n",
    "    chapter_number = 0\n",
    "    \n",
    "    #create list of lines\n",
    "    lines = []\n",
    "    for line in text:\n",
    "        lines.append(line)\n",
    "        \n",
    "        \n",
    "    #list comprehension\n",
    "    for line in lines:\n",
    "        word_list = line.split( )\n",
    "        if word_list:\n",
    "            first_word = word_list[0]\n",
    "            if first_word[-1] == '.':\n",
    "                try:\n",
    "                    float(first_word)\n",
    "                    chapter_number += 1\n",
    "                except:\n",
    "                    pass\n",
    "\n",
    "            chapter_dictionary[chapter_number].append(line)\n",
    "    return chapter_dictionary"
   ]
  },
  {
   "cell_type": "code",
   "execution_count": 15,
   "metadata": {},
   "outputs": [],
   "source": [
    "def create_chapter_numbers(file , chapter_titles, text_reader_function=text_reader):\n",
    "    \n",
    "    \"\"\"insert chapter number for each chapter title\n",
    "    \n",
    "    file: text file \n",
    "    chapter_titles: a list of its chapter titles\n",
    "    \n",
    "    returns: text with numerical chapter\"\"\"\n",
    "    \n",
    "    text = text_reader_function(file)\n",
    "    \n",
    "    for title in chapter_titles:\n",
    "        index = text.find(title)\n",
    "        new_text = text[:index] + \"1. \" + text[index:]\n",
    "        text = new_text\n",
    "    \n",
    "    return text"
   ]
  },
  {
   "cell_type": "code",
   "execution_count": 16,
   "metadata": {},
   "outputs": [],
   "source": [
    "def remove_indexed_values(dictionary , int):\n",
    "    for item in dictionary.values():\n",
    "        del item[int]\n",
    "    return dictionary"
   ]
  },
  {
   "cell_type": "markdown",
   "metadata": {},
   "source": [
    "# Data Frames"
   ]
  },
  {
   "cell_type": "code",
   "execution_count": 17,
   "metadata": {},
   "outputs": [],
   "source": [
    "def create_chapter_data_frame(sentence_list , section, book_title, author):\n",
    "    \n",
    "    \"\"\"sentence_list = list of sentences\n",
    "    section = int\n",
    "    book_title = title\"\"\"\n",
    "    \n",
    "    # import\n",
    "    import pandas as pd\n",
    "    \n",
    "    df = pd.DataFrame()\n",
    "    df[\"Sentence\"] = sentence_list\n",
    "    df[\"Section\"] = section\n",
    "    df[\"Book_Title\"] = book_title\n",
    "    df[\"Author\"] = author\n",
    "    return df"
   ]
  },
  {
   "cell_type": "code",
   "execution_count": 18,
   "metadata": {},
   "outputs": [],
   "source": [
    "def book_df(book_chapters_dict, book_title , author):    \n",
    "    \n",
    "    # import\n",
    "    import pandas as pd\n",
    "    \n",
    "    df = pd.DataFrame(columns = [\"Sentence\" , \"Section\", \"Book_Title\" , \"Author\"])\n",
    "    for chapter in book_chapters_dict.keys():\n",
    "        chapter_df = create_chapter_data_frame(book_chapters_dict[chapter], chapter, book_title , author)\n",
    "        df = df.append(chapter_df, ignore_index = True)\n",
    "    return df"
   ]
  },
  {
   "cell_type": "code",
   "execution_count": null,
   "metadata": {},
   "outputs": [],
   "source": []
  }
 ],
 "metadata": {
  "kernelspec": {
   "display_name": "Python 3",
   "language": "python",
   "name": "python3"
  },
  "language_info": {
   "codemirror_mode": {
    "name": "ipython",
    "version": 3
   },
   "file_extension": ".py",
   "mimetype": "text/x-python",
   "name": "python",
   "nbconvert_exporter": "python",
   "pygments_lexer": "ipython3",
   "version": "3.6.5"
  }
 },
 "nbformat": 4,
 "nbformat_minor": 2
}
