{
 "cells": [
  {
   "cell_type": "markdown",
   "metadata": {},
   "source": [
    "# FUNCTIONS"
   ]
  },
  {
   "cell_type": "markdown",
   "metadata": {},
   "source": [
    "# text reader"
   ]
  },
  {
   "cell_type": "code",
   "execution_count": 3,
   "metadata": {},
   "outputs": [],
   "source": [
    "def text_reader(text_file):\n",
    "    \n",
    "    \"\"\"Read in a text file and return a string\n",
    "    \n",
    "    Keyword Arguments:\n",
    "    text_file -- string that points to a .txt file on your computer\"\"\"\n",
    "    \n",
    "    lines = []\n",
    "    with open(text_file, 'r') as file:\n",
    "        for line in file:\n",
    "            lines.append(line)\n",
    "    return \" \".join(lines) "
   ]
  },
  {
   "cell_type": "markdown",
   "metadata": {},
   "source": [
    "# clean and remove stops"
   ]
  },
  {
   "cell_type": "code",
   "execution_count": 4,
   "metadata": {},
   "outputs": [],
   "source": [
    "def clean_and_remove_stops(lines):\n",
    "\n",
    "    \"\"\"Remove numbers and punctuation, and standardize case\n",
    "\n",
    "    Keyword Arguments:\n",
    "    lines: string of text\"\"\"\n",
    "    \n",
    "    # import\n",
    "    import re\n",
    "    from nltk.corpus import stopwords\n",
    "    \n",
    "    # create set of stop words\n",
    "    stop = set(stopwords.words('english'))\n",
    "    \n",
    "    lower_characters = lines.lower()\n",
    "    approved_words = []\n",
    "    white_list = set('abcdefghijklmnopqrstuvwxyz ')\n",
    "    \n",
    "    for word in lower_characters.split():\n",
    "        if word not in stop:\n",
    "            clean_word = re.sub(r'[^a-z ]+', '', word)\n",
    "            approved_words.append(clean_word)\n",
    "            \n",
    "    return \" \".join(approved_words)\n",
    "    print (#append word(s) to stopword set: \n",
    "            \"\"\"stop.update([\"string\" , \"string\", \"string\"])\"\"\")"
   ]
  },
  {
   "cell_type": "markdown",
   "metadata": {},
   "source": [
    "# basic clean text"
   ]
  },
  {
   "cell_type": "code",
   "execution_count": 5,
   "metadata": {},
   "outputs": [],
   "source": [
    "def clean_text(lines):\n",
    "\n",
    "    \"\"\"Remove numbers and punctuation, and standardize case\n",
    "\n",
    "    Keyword Arguments:\n",
    "    lines: string of text\"\"\"\n",
    "    \n",
    "    lower_characters = lines.lower()\n",
    "    approved_characters = []\n",
    "    white_list = set('abcdefghijklmnopqrstuvwxyz ')\n",
    "    \n",
    "    for character in lower_characters:\n",
    "        if character in white_list:\n",
    "            approved_characters.append(character)\n",
    "            \n",
    "    return \"\".join(approved_characters)"
   ]
  },
  {
   "cell_type": "markdown",
   "metadata": {},
   "source": [
    "# sentence lengths"
   ]
  },
  {
   "cell_type": "code",
   "execution_count": 6,
   "metadata": {},
   "outputs": [],
   "source": [
    "def leng_sentences(text):\n",
    "    # import\n",
    "    import re\n",
    "    \n",
    "    # split sentences\n",
    "    multiple_sentences = re.split('[?.!]', text)\n",
    "    \n",
    "    # find word count per sentence\n",
    "    def syntax_length(text):\n",
    "        sentence_word_count = []\n",
    "        for sentence in text:\n",
    "            count = len(sentence.split())\n",
    "            sentence_word_count.append(count)\n",
    "        return sentence_word_count\n",
    "    word_count_sentence = syntax_length(multiple_sentences)\n",
    "    \n",
    "    # assign index\n",
    "    sentence_number = list(range(0, len(multiple_sentences)))\n",
    "    \n",
    "    # remove sentences that are unneeded or not real\n",
    "    s_leng = [i for i in word_count_sentence if i > 1]\n",
    "    \n",
    "    # re-assign index\n",
    "    s_index = list(range(0, len(s_leng)))\n",
    "\n",
    "    print(\"New Variables: sentence length list: {}, sentence index list: {}\".format(len(s_leng), len(s_index)))\n",
    "    \n",
    "    return s_leng, s_index"
   ]
  },
  {
   "cell_type": "markdown",
   "metadata": {},
   "source": [
    "# Polarity"
   ]
  },
  {
   "cell_type": "code",
   "execution_count": 7,
   "metadata": {},
   "outputs": [],
   "source": [
    "def polarity_sentences(text):\n",
    "    \n",
    "    #import functions\n",
    "    from textblob import TextBlob\n",
    "    \n",
    "    #split text into sentences\n",
    "    sentences = TextBlob(text).sentences\n",
    "\n",
    "    #create list\n",
    "    polarities = []\n",
    "\n",
    "    #function\n",
    "    for sentence in sentences:\n",
    "        sentences_analysis = TextBlob(str(sentence)).sentiment.polarity\n",
    "        polarities.append(sentences_analysis)\n",
    "        polar = TextBlob(str(sentence)).sentiment.polarity\n",
    "\n",
    "    print(\"Overall Polarity: {}, Polarities (first 10): {}\".format(polar, polarities[:9]))\n",
    "    return polar, polarities"
   ]
  },
  {
   "cell_type": "markdown",
   "metadata": {},
   "source": [
    "# Subjectivity"
   ]
  },
  {
   "cell_type": "code",
   "execution_count": 8,
   "metadata": {},
   "outputs": [],
   "source": [
    "def subjectivity_sentences(text):\n",
    "    \n",
    "    #import functions\n",
    "    from textblob import TextBlob\n",
    "    \n",
    "    #split text into sentences\n",
    "    sentences = TextBlob(text).sentences\n",
    "\n",
    "    #create list\n",
    "    subjectivities = []\n",
    "\n",
    "    #function\n",
    "    for sentence in sentences:\n",
    "        sentences_analysis = TextBlob(str(sentence)).sentiment.subjectivity\n",
    "        subjectivities.append(sentences_analysis)\n",
    "        subjectiveness = TextBlob(str(sentence)).sentiment.subjectivity\n",
    "\n",
    "    print(\"Overall Subjectiveness: {}, Subjectivities (first 10): {}\".format(subjectiveness, subjectivities[:9]))\n",
    "    return subjectiveness, subjectivities"
   ]
  },
  {
   "cell_type": "code",
   "execution_count": null,
   "metadata": {},
   "outputs": [],
   "source": []
  }
 ],
 "metadata": {
  "kernelspec": {
   "display_name": "Python 3",
   "language": "python",
   "name": "python3"
  },
  "language_info": {
   "codemirror_mode": {
    "name": "ipython",
    "version": 3
   },
   "file_extension": ".py",
   "mimetype": "text/x-python",
   "name": "python",
   "nbconvert_exporter": "python",
   "pygments_lexer": "ipython3",
   "version": "3.6.5"
  }
 },
 "nbformat": 4,
 "nbformat_minor": 2
}
