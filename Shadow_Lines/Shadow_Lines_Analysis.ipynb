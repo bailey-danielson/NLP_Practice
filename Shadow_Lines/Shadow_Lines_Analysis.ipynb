{
 "cells": [
  {
   "cell_type": "code",
   "execution_count": 1,
   "metadata": {},
   "outputs": [],
   "source": [
    "from my_functions import text_reader , leng_sentences , polarity_sentences , subjectivity_sentences\n",
    "import pandas as pd\n",
    "from textblob import TextBlob"
   ]
  },
  {
   "cell_type": "code",
   "execution_count": 2,
   "metadata": {},
   "outputs": [],
   "source": [
    "def split_text(text , split_keyword):\n",
    "\n",
    "    #funtion\n",
    "    text_sections = text.split(split_keyword)\n",
    "    \n",
    "    print(\"Number of Sections:\" , len(text_sections))\n",
    "    return text_sections"
   ]
  },
  {
   "cell_type": "code",
   "execution_count": 3,
   "metadata": {},
   "outputs": [],
   "source": [
    "Shadow_Lines = text_reader(\"/Users/BaileyDanielson/Documents/Python/Shadow_Lines.txt\")"
   ]
  },
  {
   "cell_type": "code",
   "execution_count": 4,
   "metadata": {},
   "outputs": [],
   "source": [
    "sections_SL = Shadow_Lines.split(\"Coming Home\")"
   ]
  },
  {
   "cell_type": "code",
   "execution_count": 6,
   "metadata": {},
   "outputs": [
    {
     "name": "stdout",
     "output_type": "stream",
     "text": [
      "2\n"
     ]
    }
   ],
   "source": [
    "print(len(sections_SL))"
   ]
  },
  {
   "cell_type": "code",
   "execution_count": 7,
   "metadata": {},
   "outputs": [
    {
     "name": "stdout",
     "output_type": "stream",
     "text": [
      "Number of Sections: 2\n"
     ]
    }
   ],
   "source": [
    "sl_sections = split_text(Shadow_Lines, \"Coming Home\")"
   ]
  },
  {
   "cell_type": "code",
   "execution_count": 8,
   "metadata": {},
   "outputs": [
    {
     "name": "stdout",
     "output_type": "stream",
     "text": [
      "New Variables: sentence length list: 5967, sentence index list: 5967\n"
     ]
    }
   ],
   "source": [
    "sl_lengths, sl_index = leng_sentences(Shadow_Lines)"
   ]
  },
  {
   "cell_type": "code",
   "execution_count": 9,
   "metadata": {},
   "outputs": [
    {
     "name": "stdout",
     "output_type": "stream",
     "text": [
      "Overall Polarity: 0.175, Polarities (first 10): [0.0, 0.1, 0.05, -0.371875, 0.0, -0.05000000000000001, 0.0, 0.3333333333333333, 0.005208333333333329]\n"
     ]
    }
   ],
   "source": [
    "sl_pol, sl_sent_pols = polarity_sentences(Shadow_Lines)"
   ]
  },
  {
   "cell_type": "code",
   "execution_count": 10,
   "metadata": {},
   "outputs": [
    {
     "name": "stdout",
     "output_type": "stream",
     "text": [
      "Overall Subjectiveness: 0.7416666666666666, Subjectivities (first 10): [0.0, 0.75, 0.5, 0.575, 0.75, 0.4125, 0.0, 0.38888888888888884, 0.27604166666666663]\n"
     ]
    }
   ],
   "source": [
    "sl_sub, sl_sent_subs = subjectivity_sentences(Shadow_Lines)"
   ]
  },
  {
   "cell_type": "code",
   "execution_count": 11,
   "metadata": {},
   "outputs": [
    {
     "name": "stdout",
     "output_type": "stream",
     "text": [
      "Overall Polarity: 0.0, Polarities (first 10): [0.0, 0.1, 0.05, -0.371875, 0.0, -0.05000000000000001, 0.0, 0.3333333333333333, 0.005208333333333329]\n"
     ]
    }
   ],
   "source": [
    "pol_sect_one, pol_sect_one_sents = polarity_sentences(sl_sections[0])"
   ]
  },
  {
   "cell_type": "code",
   "execution_count": 12,
   "metadata": {},
   "outputs": [
    {
     "name": "stdout",
     "output_type": "stream",
     "text": [
      "Overall Polarity: 0.175, Polarities (first 10): [0.0, 0.16, 0.125, -0.3499999999999999, 0.2125, 0.0, 0.05, 0.1, -0.05]\n"
     ]
    }
   ],
   "source": [
    "pol_sect_two, pol_sect_two_sents = polarity_sentences(sl_sections[1])"
   ]
  },
  {
   "cell_type": "code",
   "execution_count": 13,
   "metadata": {},
   "outputs": [
    {
     "name": "stdout",
     "output_type": "stream",
     "text": [
      "Overall Subjectiveness: 0.05, Subjectivities (first 10): [0.0, 0.75, 0.5, 0.575, 0.75, 0.4125, 0.0, 0.38888888888888884, 0.27604166666666663]\n"
     ]
    }
   ],
   "source": [
    "sub_sect_one, sub_sect_one_sents = subjectivity_sentences(sl_sections[0])"
   ]
  },
  {
   "cell_type": "code",
   "execution_count": 14,
   "metadata": {},
   "outputs": [
    {
     "name": "stdout",
     "output_type": "stream",
     "text": [
      "Overall Subjectiveness: 0.7416666666666666, Subjectivities (first 10): [0.0, 0.5399999999999999, 0.6666666666666666, 0.3833333333333333, 0.36250000000000004, 0.06666666666666667, 0.2, 0.2, 0.15000000000000002]\n"
     ]
    }
   ],
   "source": [
    "sub_sect_two, sub_sect_two_sents = subjectivity_sentences(sl_sections[1])"
   ]
  },
  {
   "cell_type": "code",
   "execution_count": 15,
   "metadata": {},
   "outputs": [
    {
     "data": {
      "text/html": [
       "<div>\n",
       "<style scoped>\n",
       "    .dataframe tbody tr th:only-of-type {\n",
       "        vertical-align: middle;\n",
       "    }\n",
       "\n",
       "    .dataframe tbody tr th {\n",
       "        vertical-align: top;\n",
       "    }\n",
       "\n",
       "    .dataframe thead th {\n",
       "        text-align: right;\n",
       "    }\n",
       "</style>\n",
       "<table border=\"1\" class=\"dataframe\">\n",
       "  <thead>\n",
       "    <tr style=\"text-align: right;\">\n",
       "      <th></th>\n",
       "      <th>polarity</th>\n",
       "      <th>subjectivity</th>\n",
       "    </tr>\n",
       "  </thead>\n",
       "  <tbody>\n",
       "    <tr>\n",
       "      <th>0</th>\n",
       "      <td>0.000000</td>\n",
       "      <td>0.000000</td>\n",
       "    </tr>\n",
       "    <tr>\n",
       "      <th>1</th>\n",
       "      <td>0.100000</td>\n",
       "      <td>0.750000</td>\n",
       "    </tr>\n",
       "    <tr>\n",
       "      <th>2</th>\n",
       "      <td>0.050000</td>\n",
       "      <td>0.500000</td>\n",
       "    </tr>\n",
       "    <tr>\n",
       "      <th>3</th>\n",
       "      <td>-0.371875</td>\n",
       "      <td>0.575000</td>\n",
       "    </tr>\n",
       "    <tr>\n",
       "      <th>4</th>\n",
       "      <td>0.000000</td>\n",
       "      <td>0.750000</td>\n",
       "    </tr>\n",
       "    <tr>\n",
       "      <th>5</th>\n",
       "      <td>-0.050000</td>\n",
       "      <td>0.412500</td>\n",
       "    </tr>\n",
       "    <tr>\n",
       "      <th>6</th>\n",
       "      <td>0.000000</td>\n",
       "      <td>0.000000</td>\n",
       "    </tr>\n",
       "    <tr>\n",
       "      <th>7</th>\n",
       "      <td>0.333333</td>\n",
       "      <td>0.388889</td>\n",
       "    </tr>\n",
       "    <tr>\n",
       "      <th>8</th>\n",
       "      <td>0.005208</td>\n",
       "      <td>0.276042</td>\n",
       "    </tr>\n",
       "    <tr>\n",
       "      <th>9</th>\n",
       "      <td>0.129167</td>\n",
       "      <td>0.356944</td>\n",
       "    </tr>\n",
       "    <tr>\n",
       "      <th>10</th>\n",
       "      <td>0.000000</td>\n",
       "      <td>0.000000</td>\n",
       "    </tr>\n",
       "    <tr>\n",
       "      <th>11</th>\n",
       "      <td>0.433333</td>\n",
       "      <td>0.650000</td>\n",
       "    </tr>\n",
       "    <tr>\n",
       "      <th>12</th>\n",
       "      <td>-0.100000</td>\n",
       "      <td>0.500000</td>\n",
       "    </tr>\n",
       "    <tr>\n",
       "      <th>13</th>\n",
       "      <td>0.000000</td>\n",
       "      <td>0.000000</td>\n",
       "    </tr>\n",
       "    <tr>\n",
       "      <th>14</th>\n",
       "      <td>0.000000</td>\n",
       "      <td>0.100000</td>\n",
       "    </tr>\n",
       "    <tr>\n",
       "      <th>15</th>\n",
       "      <td>-0.129167</td>\n",
       "      <td>0.500000</td>\n",
       "    </tr>\n",
       "    <tr>\n",
       "      <th>16</th>\n",
       "      <td>-0.333333</td>\n",
       "      <td>0.666667</td>\n",
       "    </tr>\n",
       "    <tr>\n",
       "      <th>17</th>\n",
       "      <td>0.000000</td>\n",
       "      <td>0.000000</td>\n",
       "    </tr>\n",
       "    <tr>\n",
       "      <th>18</th>\n",
       "      <td>-0.200000</td>\n",
       "      <td>0.000000</td>\n",
       "    </tr>\n",
       "    <tr>\n",
       "      <th>19</th>\n",
       "      <td>-0.150000</td>\n",
       "      <td>0.400000</td>\n",
       "    </tr>\n",
       "  </tbody>\n",
       "</table>\n",
       "</div>"
      ],
      "text/plain": [
       "    polarity  subjectivity\n",
       "0   0.000000      0.000000\n",
       "1   0.100000      0.750000\n",
       "2   0.050000      0.500000\n",
       "3  -0.371875      0.575000\n",
       "4   0.000000      0.750000\n",
       "5  -0.050000      0.412500\n",
       "6   0.000000      0.000000\n",
       "7   0.333333      0.388889\n",
       "8   0.005208      0.276042\n",
       "9   0.129167      0.356944\n",
       "10  0.000000      0.000000\n",
       "11  0.433333      0.650000\n",
       "12 -0.100000      0.500000\n",
       "13  0.000000      0.000000\n",
       "14  0.000000      0.100000\n",
       "15 -0.129167      0.500000\n",
       "16 -0.333333      0.666667\n",
       "17  0.000000      0.000000\n",
       "18 -0.200000      0.000000\n",
       "19 -0.150000      0.400000"
      ]
     },
     "execution_count": 15,
     "metadata": {},
     "output_type": "execute_result"
    }
   ],
   "source": [
    "sl_df = pd.DataFrame({'polarity': sl_sent_pols, 'subjectivity': sl_sent_subs})\n",
    "sl_df.head(20)"
   ]
  },
  {
   "cell_type": "code",
   "execution_count": 16,
   "metadata": {},
   "outputs": [],
   "source": [
    "sl_df.to_csv(\"/Users/BaileyDanielson/Documents/Python/NLP_Practice/ShadowLines_sentiments.csv\")"
   ]
  },
  {
   "cell_type": "code",
   "execution_count": 17,
   "metadata": {},
   "outputs": [
    {
     "data": {
      "text/html": [
       "<div>\n",
       "<style scoped>\n",
       "    .dataframe tbody tr th:only-of-type {\n",
       "        vertical-align: middle;\n",
       "    }\n",
       "\n",
       "    .dataframe tbody tr th {\n",
       "        vertical-align: top;\n",
       "    }\n",
       "\n",
       "    .dataframe thead th {\n",
       "        text-align: right;\n",
       "    }\n",
       "</style>\n",
       "<table border=\"1\" class=\"dataframe\">\n",
       "  <thead>\n",
       "    <tr style=\"text-align: right;\">\n",
       "      <th></th>\n",
       "      <th>polarity of section 1</th>\n",
       "      <th>subjectivity of section 1</th>\n",
       "    </tr>\n",
       "  </thead>\n",
       "  <tbody>\n",
       "    <tr>\n",
       "      <th>0</th>\n",
       "      <td>0.000000</td>\n",
       "      <td>0.000000</td>\n",
       "    </tr>\n",
       "    <tr>\n",
       "      <th>1</th>\n",
       "      <td>0.100000</td>\n",
       "      <td>0.750000</td>\n",
       "    </tr>\n",
       "    <tr>\n",
       "      <th>2</th>\n",
       "      <td>0.050000</td>\n",
       "      <td>0.500000</td>\n",
       "    </tr>\n",
       "    <tr>\n",
       "      <th>3</th>\n",
       "      <td>-0.371875</td>\n",
       "      <td>0.575000</td>\n",
       "    </tr>\n",
       "    <tr>\n",
       "      <th>4</th>\n",
       "      <td>0.000000</td>\n",
       "      <td>0.750000</td>\n",
       "    </tr>\n",
       "    <tr>\n",
       "      <th>5</th>\n",
       "      <td>-0.050000</td>\n",
       "      <td>0.412500</td>\n",
       "    </tr>\n",
       "    <tr>\n",
       "      <th>6</th>\n",
       "      <td>0.000000</td>\n",
       "      <td>0.000000</td>\n",
       "    </tr>\n",
       "    <tr>\n",
       "      <th>7</th>\n",
       "      <td>0.333333</td>\n",
       "      <td>0.388889</td>\n",
       "    </tr>\n",
       "    <tr>\n",
       "      <th>8</th>\n",
       "      <td>0.005208</td>\n",
       "      <td>0.276042</td>\n",
       "    </tr>\n",
       "    <tr>\n",
       "      <th>9</th>\n",
       "      <td>0.129167</td>\n",
       "      <td>0.356944</td>\n",
       "    </tr>\n",
       "    <tr>\n",
       "      <th>10</th>\n",
       "      <td>0.000000</td>\n",
       "      <td>0.000000</td>\n",
       "    </tr>\n",
       "    <tr>\n",
       "      <th>11</th>\n",
       "      <td>0.433333</td>\n",
       "      <td>0.650000</td>\n",
       "    </tr>\n",
       "    <tr>\n",
       "      <th>12</th>\n",
       "      <td>-0.100000</td>\n",
       "      <td>0.500000</td>\n",
       "    </tr>\n",
       "    <tr>\n",
       "      <th>13</th>\n",
       "      <td>0.000000</td>\n",
       "      <td>0.000000</td>\n",
       "    </tr>\n",
       "    <tr>\n",
       "      <th>14</th>\n",
       "      <td>0.000000</td>\n",
       "      <td>0.100000</td>\n",
       "    </tr>\n",
       "    <tr>\n",
       "      <th>15</th>\n",
       "      <td>-0.129167</td>\n",
       "      <td>0.500000</td>\n",
       "    </tr>\n",
       "    <tr>\n",
       "      <th>16</th>\n",
       "      <td>-0.333333</td>\n",
       "      <td>0.666667</td>\n",
       "    </tr>\n",
       "    <tr>\n",
       "      <th>17</th>\n",
       "      <td>0.000000</td>\n",
       "      <td>0.000000</td>\n",
       "    </tr>\n",
       "    <tr>\n",
       "      <th>18</th>\n",
       "      <td>-0.200000</td>\n",
       "      <td>0.000000</td>\n",
       "    </tr>\n",
       "    <tr>\n",
       "      <th>19</th>\n",
       "      <td>-0.150000</td>\n",
       "      <td>0.400000</td>\n",
       "    </tr>\n",
       "  </tbody>\n",
       "</table>\n",
       "</div>"
      ],
      "text/plain": [
       "    polarity of section 1  subjectivity of section 1\n",
       "0                0.000000                   0.000000\n",
       "1                0.100000                   0.750000\n",
       "2                0.050000                   0.500000\n",
       "3               -0.371875                   0.575000\n",
       "4                0.000000                   0.750000\n",
       "5               -0.050000                   0.412500\n",
       "6                0.000000                   0.000000\n",
       "7                0.333333                   0.388889\n",
       "8                0.005208                   0.276042\n",
       "9                0.129167                   0.356944\n",
       "10               0.000000                   0.000000\n",
       "11               0.433333                   0.650000\n",
       "12              -0.100000                   0.500000\n",
       "13               0.000000                   0.000000\n",
       "14               0.000000                   0.100000\n",
       "15              -0.129167                   0.500000\n",
       "16              -0.333333                   0.666667\n",
       "17               0.000000                   0.000000\n",
       "18              -0.200000                   0.000000\n",
       "19              -0.150000                   0.400000"
      ]
     },
     "execution_count": 17,
     "metadata": {},
     "output_type": "execute_result"
    }
   ],
   "source": [
    "sl_df2 = pd.DataFrame({'polarity of section 1': pol_sect_one_sents, 'subjectivity of section 1': sub_sect_one_sents})\n",
    "sl_df2.head(20)"
   ]
  },
  {
   "cell_type": "code",
   "execution_count": 18,
   "metadata": {},
   "outputs": [
    {
     "data": {
      "text/html": [
       "<div>\n",
       "<style scoped>\n",
       "    .dataframe tbody tr th:only-of-type {\n",
       "        vertical-align: middle;\n",
       "    }\n",
       "\n",
       "    .dataframe tbody tr th {\n",
       "        vertical-align: top;\n",
       "    }\n",
       "\n",
       "    .dataframe thead th {\n",
       "        text-align: right;\n",
       "    }\n",
       "</style>\n",
       "<table border=\"1\" class=\"dataframe\">\n",
       "  <thead>\n",
       "    <tr style=\"text-align: right;\">\n",
       "      <th></th>\n",
       "      <th>polarity of section 2</th>\n",
       "      <th>subjectivity of section 2</th>\n",
       "    </tr>\n",
       "  </thead>\n",
       "  <tbody>\n",
       "    <tr>\n",
       "      <th>0</th>\n",
       "      <td>0.000000</td>\n",
       "      <td>0.000000</td>\n",
       "    </tr>\n",
       "    <tr>\n",
       "      <th>1</th>\n",
       "      <td>0.160000</td>\n",
       "      <td>0.540000</td>\n",
       "    </tr>\n",
       "    <tr>\n",
       "      <th>2</th>\n",
       "      <td>0.125000</td>\n",
       "      <td>0.666667</td>\n",
       "    </tr>\n",
       "    <tr>\n",
       "      <th>3</th>\n",
       "      <td>-0.350000</td>\n",
       "      <td>0.383333</td>\n",
       "    </tr>\n",
       "    <tr>\n",
       "      <th>4</th>\n",
       "      <td>0.212500</td>\n",
       "      <td>0.362500</td>\n",
       "    </tr>\n",
       "    <tr>\n",
       "      <th>5</th>\n",
       "      <td>0.000000</td>\n",
       "      <td>0.066667</td>\n",
       "    </tr>\n",
       "    <tr>\n",
       "      <th>6</th>\n",
       "      <td>0.050000</td>\n",
       "      <td>0.200000</td>\n",
       "    </tr>\n",
       "    <tr>\n",
       "      <th>7</th>\n",
       "      <td>0.100000</td>\n",
       "      <td>0.200000</td>\n",
       "    </tr>\n",
       "    <tr>\n",
       "      <th>8</th>\n",
       "      <td>-0.050000</td>\n",
       "      <td>0.150000</td>\n",
       "    </tr>\n",
       "    <tr>\n",
       "      <th>9</th>\n",
       "      <td>0.000000</td>\n",
       "      <td>0.066667</td>\n",
       "    </tr>\n",
       "    <tr>\n",
       "      <th>10</th>\n",
       "      <td>0.550000</td>\n",
       "      <td>0.700000</td>\n",
       "    </tr>\n",
       "    <tr>\n",
       "      <th>11</th>\n",
       "      <td>0.000000</td>\n",
       "      <td>0.000000</td>\n",
       "    </tr>\n",
       "    <tr>\n",
       "      <th>12</th>\n",
       "      <td>0.500000</td>\n",
       "      <td>0.500000</td>\n",
       "    </tr>\n",
       "    <tr>\n",
       "      <th>13</th>\n",
       "      <td>0.083333</td>\n",
       "      <td>0.166667</td>\n",
       "    </tr>\n",
       "    <tr>\n",
       "      <th>14</th>\n",
       "      <td>0.214286</td>\n",
       "      <td>0.428571</td>\n",
       "    </tr>\n",
       "    <tr>\n",
       "      <th>15</th>\n",
       "      <td>0.000000</td>\n",
       "      <td>0.100000</td>\n",
       "    </tr>\n",
       "    <tr>\n",
       "      <th>16</th>\n",
       "      <td>0.233333</td>\n",
       "      <td>0.566667</td>\n",
       "    </tr>\n",
       "    <tr>\n",
       "      <th>17</th>\n",
       "      <td>0.200000</td>\n",
       "      <td>0.300000</td>\n",
       "    </tr>\n",
       "    <tr>\n",
       "      <th>18</th>\n",
       "      <td>0.371429</td>\n",
       "      <td>0.607143</td>\n",
       "    </tr>\n",
       "    <tr>\n",
       "      <th>19</th>\n",
       "      <td>0.000000</td>\n",
       "      <td>0.000000</td>\n",
       "    </tr>\n",
       "  </tbody>\n",
       "</table>\n",
       "</div>"
      ],
      "text/plain": [
       "    polarity of section 2  subjectivity of section 2\n",
       "0                0.000000                   0.000000\n",
       "1                0.160000                   0.540000\n",
       "2                0.125000                   0.666667\n",
       "3               -0.350000                   0.383333\n",
       "4                0.212500                   0.362500\n",
       "5                0.000000                   0.066667\n",
       "6                0.050000                   0.200000\n",
       "7                0.100000                   0.200000\n",
       "8               -0.050000                   0.150000\n",
       "9                0.000000                   0.066667\n",
       "10               0.550000                   0.700000\n",
       "11               0.000000                   0.000000\n",
       "12               0.500000                   0.500000\n",
       "13               0.083333                   0.166667\n",
       "14               0.214286                   0.428571\n",
       "15               0.000000                   0.100000\n",
       "16               0.233333                   0.566667\n",
       "17               0.200000                   0.300000\n",
       "18               0.371429                   0.607143\n",
       "19               0.000000                   0.000000"
      ]
     },
     "execution_count": 18,
     "metadata": {},
     "output_type": "execute_result"
    }
   ],
   "source": [
    "sl_df3 = pd.DataFrame({'polarity of section 2': pol_sect_two_sents, 'subjectivity of section 2': sub_sect_two_sents})\n",
    "sl_df3.head(20)"
   ]
  },
  {
   "cell_type": "code",
   "execution_count": 19,
   "metadata": {},
   "outputs": [],
   "source": [
    "sl_df2.to_csv(\"/Users/BaileyDanielson/Documents/Python/NLP_Practice/ShadowLines_sentiments_sect1.csv\")\n",
    "sl_df3.to_csv(\"/Users/BaileyDanielson/Documents/Python/NLP_Practice/ShadowLines_sentiments_sect2.csv\")"
   ]
  },
  {
   "cell_type": "code",
   "execution_count": 27,
   "metadata": {},
   "outputs": [
    {
     "data": {
      "text/html": [
       "<div>\n",
       "<style scoped>\n",
       "    .dataframe tbody tr th:only-of-type {\n",
       "        vertical-align: middle;\n",
       "    }\n",
       "\n",
       "    .dataframe tbody tr th {\n",
       "        vertical-align: top;\n",
       "    }\n",
       "\n",
       "    .dataframe thead th {\n",
       "        text-align: right;\n",
       "    }\n",
       "</style>\n",
       "<table border=\"1\" class=\"dataframe\">\n",
       "  <thead>\n",
       "    <tr style=\"text-align: right;\">\n",
       "      <th></th>\n",
       "      <th>Length of Sentence</th>\n",
       "    </tr>\n",
       "  </thead>\n",
       "  <tbody>\n",
       "    <tr>\n",
       "      <th>0</th>\n",
       "      <td>29</td>\n",
       "    </tr>\n",
       "    <tr>\n",
       "      <th>1</th>\n",
       "      <td>40</td>\n",
       "    </tr>\n",
       "    <tr>\n",
       "      <th>2</th>\n",
       "      <td>45</td>\n",
       "    </tr>\n",
       "    <tr>\n",
       "      <th>3</th>\n",
       "      <td>17</td>\n",
       "    </tr>\n",
       "    <tr>\n",
       "      <th>4</th>\n",
       "      <td>12</td>\n",
       "    </tr>\n",
       "    <tr>\n",
       "      <th>5</th>\n",
       "      <td>53</td>\n",
       "    </tr>\n",
       "    <tr>\n",
       "      <th>6</th>\n",
       "      <td>10</td>\n",
       "    </tr>\n",
       "    <tr>\n",
       "      <th>7</th>\n",
       "      <td>47</td>\n",
       "    </tr>\n",
       "    <tr>\n",
       "      <th>8</th>\n",
       "      <td>42</td>\n",
       "    </tr>\n",
       "    <tr>\n",
       "      <th>9</th>\n",
       "      <td>38</td>\n",
       "    </tr>\n",
       "    <tr>\n",
       "      <th>10</th>\n",
       "      <td>19</td>\n",
       "    </tr>\n",
       "    <tr>\n",
       "      <th>11</th>\n",
       "      <td>13</td>\n",
       "    </tr>\n",
       "    <tr>\n",
       "      <th>12</th>\n",
       "      <td>23</td>\n",
       "    </tr>\n",
       "    <tr>\n",
       "      <th>13</th>\n",
       "      <td>6</td>\n",
       "    </tr>\n",
       "    <tr>\n",
       "      <th>14</th>\n",
       "      <td>26</td>\n",
       "    </tr>\n",
       "    <tr>\n",
       "      <th>15</th>\n",
       "      <td>31</td>\n",
       "    </tr>\n",
       "    <tr>\n",
       "      <th>16</th>\n",
       "      <td>23</td>\n",
       "    </tr>\n",
       "    <tr>\n",
       "      <th>17</th>\n",
       "      <td>14</td>\n",
       "    </tr>\n",
       "    <tr>\n",
       "      <th>18</th>\n",
       "      <td>9</td>\n",
       "    </tr>\n",
       "    <tr>\n",
       "      <th>19</th>\n",
       "      <td>17</td>\n",
       "    </tr>\n",
       "  </tbody>\n",
       "</table>\n",
       "</div>"
      ],
      "text/plain": [
       "    Length of Sentence\n",
       "0                   29\n",
       "1                   40\n",
       "2                   45\n",
       "3                   17\n",
       "4                   12\n",
       "5                   53\n",
       "6                   10\n",
       "7                   47\n",
       "8                   42\n",
       "9                   38\n",
       "10                  19\n",
       "11                  13\n",
       "12                  23\n",
       "13                   6\n",
       "14                  26\n",
       "15                  31\n",
       "16                  23\n",
       "17                  14\n",
       "18                   9\n",
       "19                  17"
      ]
     },
     "execution_count": 27,
     "metadata": {},
     "output_type": "execute_result"
    }
   ],
   "source": [
    "sl_df4 = pd.DataFrame({'Length of Sentence': sl_lengths})\n",
    "sl_df4.head(20)"
   ]
  },
  {
   "cell_type": "code",
   "execution_count": 21,
   "metadata": {},
   "outputs": [],
   "source": [
    "sl_df4.to_csv(\"/Users/BaileyDanielson/Documents/Python/NLP_Practice/ShadowLines_sentences.csv\")"
   ]
  },
  {
   "cell_type": "code",
   "execution_count": 35,
   "metadata": {},
   "outputs": [
    {
     "name": "stdout",
     "output_type": "stream",
     "text": [
      "[Sentence(\"Come on, she said.\"), Sentence(\"I’ll show you: it’s a game called Houses.\"), Sentence(\"No, I said, shaking my head, confused by the questions that were now stirring in my head.\"), Sentence(\"This Nick, I found myself asking her.\"), Sentence(\"How big is he?\"), Sentence(\"Oh he’s big, she said, perching on the footrest.\"), Sentence(\"He’s very big.\"), Sentence(\"Much bigger than you: much stronger, too.\"), Sentence(\"He’s twelve, three years older than us.\"), Sentence(\"I squatted beside her on the dusty floor, thinking.\"), Sentence(\"What does he look like?\"), Sentence(\"I asked presently.\"), Sentence(\"She screwed up her face and thought hard.\"), Sentence(\"He has yellow hair, she said after a while.\"), Sentence(\"It always falls over his eyes.\"), Sentence(\"Why?\"), Sentence(\"I said.\"), Sentence(\"Doesn’t he comb it?\"), Sentence(\"He does comb it, she said.\"), Sentence(\"But it still falls over his eyes.\"), Sentence(\"It must be long like a girl’s.\"), Sentence(\"No, it’s not a bit like a girl’s.\"), Sentence(\"Then why is it so long?\"), Sentence(\"It is not so long, she said.\"), Sentence(\"It’s just very straight, and when he runs or something it falls over his eyes.\"), Sentence(\"He can even touch it with his tongue\n",
      " sometimes.\"), Sentence(\"I spat on the floor in disgust.\"), Sentence(\"We watched the spit turning into a tiny pool of foaming mud.\"), Sentence(\"He must be filthy, I said.\"), Sentence(\"Eating his own hair.\"), Sentence(\"You’re just jealous, Ila said grinning, because your own hair is so short.\"), Sentence(\"Nick looks sweet when his hair falls over his eyes: everyone says so.\"), Sentence(\"After that day Nick Price, whom I had never seen, and would, as far as I knew, never see, became a spectral presence beside me in my looking\n",
      " glass; growing with me, but always bigger and better, and in some ways more desirable – I did not know what, except that it was so in Ila’s eyes\n",
      " and therefore true.\"), Sentence(\"I would look into the glass and there he would be, growing, always faster, always a head taller than me, with hair on his arms and\n",
      " chest and crotch while mine were still pitifully bare.\"), Sentence(\"And yet if I tried to look into the face of that ghostly presence, to see its nose, its teeth, its ears,\n",
      " there was never anything there, it had no features, no form; I would shut my eyes and try to see its face, but all I would see was a shock of yellow hair\n",
      " tumbling over a pair of bright blue eyes.\"), Sentence(\"And as for what he did, what he said, what he thought about, in the three years between the moment when\n",
      " Ila first told me about him and that day when I took May down to that underground room, I knew nothing at all about him except one little snippet of a\n",
      " story that my father told me about him once, soon after returning from a trip to England.\"), Sentence(\"My father had telephoned Mrs Price soon after he arrived in London, just in case Ila and Queen Victoria were still there.\"), Sentence(\"It turned out that they had\n",
      " left long ago, but Mrs Price insisted that he come to tea with her anyway.\"), Sentence(\"He went, and when Mrs Price led him into her drawing room, he found\n",
      " Nick there too, dressed in his school uniform but with his tie hanging loose around his neck.\"), Sentence(\"He shook hands with my father and sat down quietly in\n",
      " an armchair in a corner.\"), Sentence(\"My father could not help being impressed: he had never seen such a definite air of self-possession in a child of thirteen.\"), Sentence(\"For a while my father and Mrs Price chatted about Mayadebi and the Shaheb (who were in Romania and had invited her to visit them there),\n",
      " about May, who was away at the festival in Bayreuth, and Tridib.\"), Sentence(\"Mrs Price remembered, laughing, that Tridib had once decided that he wanted to\n",
      " be an air-raid warden when he grew up.\"), Sentence(\"So then my father turned to Nick, for he hadn’t said a word yet, and asked him whether he knew what he\n",
      " wanted to be when he grew up.\"), Sentence(\"Nick tipped back his head, with a little smile, as though he were surprised that anyone should ask, and said, yes, of course he knew, he’d known\n",
      " for years; he wanted to be like his grandfather, grandfather Tresawsen, whose picture was hanging over there, above the mantelpiece.\"), Sentence(\"To my intense disappointment, my father could tell me nothing about Nick’s grandfather, except that in the picture he had had a square face,\n",
      " white hair and a walrus moustache.\"), Sentence(\"So, as always, it fell to Tridib to tell me, sitting on the grass in the Gole Park roundabout one evening, how Mrs Price’s father, Lionel Tresawsen,\n",
      " had left the farm where he’d been born – in a village called Mabe, in southern Cornwall – and gone off to a nearby town to work in a tin mine; how\n",
      " he’d gone on from there – for no matter that he had very little education, he had deft hands, a quick mind and a great deal of ambition – to become\n",
      " the overseer of a tin mine in Malaysia; and then further and further on, all around the world – Fiji, Bolivia, the Guinea Coast, Ceylon – working in\n",
      " mines or warehouses or plantations or whatever came his way; how finally he had surfaced in Calcutta, making his living by working as an agent in\n",
      " a company which dealt in steel tubes, and then, later, gone on to make, if not exactly a fortune, certainly a respectable sum of money, by starting a\n",
      " \f",
      "small factory of his own, in Barrackpore.\"), Sentence(\"It was then, prosperous at last, in his middle age, that he married.\"), Sentence(\"His wife was the widow of a Welsh\n",
      " missionary doctor, and she bore him two children, Elisabeth and Alan.\"), Sentence(\"When Elisabeth was twelve and Alan ten, she made her husband sell his\n",
      " factory and move back to England: she was determined that her children would have all the advantages of a proper education, university and all.\"), Sentence(\"And so they went back and settled in the bucolic tranquillity of a small Buckinghamshire village.\"), Sentence(\"But in fact there was much more to Lionel Tresawsen than money, steel tubes and children.\"), Sentence(\"In his youth, for example, he had been a prolific\n",
      " inventor.\"), Sentence(\"After he died, his wife discovered that in the period of five years when he was living in Malaysia he had taken out no less than twenty-five\n",
      " patents – for gadgets ranging from mechanical shoe-horns to stirrup-pumps for draining water out of flooded mines.\"), Sentence(\"He had given up inventing in disgust when manufacturers had proved strangely indifferent to his inventions.\"), Sentence(\"And then there was the Lionel\n",
      " Tresawsen of middle-age, who had tried to set up a homeopathic hospital in a village near Calcutta; and the almost-old Lionel, who had developed\n",
      " an interest in spiritualism and begun to attend the meetings of the Theosophical Society in Calcutta, where he met and earned the trust and\n",
      " friendship of a number of leading nationalists.\"), Sentence(\"This had, of course, estranged him and his wife from most circles of British society in the city and led\n",
      " to innumerable colourful slights and insults at clubs and tea parties, but that had made very little difference to Lionel Tresawsen, since those people\n",
      " had never been particularly pleasant to him anyway.\"), Sentence(\"He had also begun to attend seances conducted by a Russian medium, a large lady who had\n",
      " married an Italian who ran a restaurant in Chowringhee.\"), Sentence(\"It was at those offices that he met Tridib’s grandfather, Mr Justice Chandrashekhar Datta-\n",
      " Chaudhuri, who liked indulging in matters spiritual when the High Court was not in session: their friendship was sealed across innumerable\n",
      " planchette tables while waiting for the large lady to summon her favourite spirit, the all-seeing astral body of Ivan the Terrible.\"), Sentence(\"Listening to Tridib that evening, I thought I understood what Nick had meant when he had said to my father, with such untroubled certainty, that\n",
      " yes, of course he knew what he wanted to do, he wanted to travel around the world like Lionel Tresawsen, to live in faraway places half-way around\n",
      " the globe, to walk through the streets of La Paz and Cairo.\"), Sentence(\"At that moment, looking up at the smoggy night sky above Gole Park, wondering how the\n",
      " stars looked in London, I thought I had found at last the kindred spirit whom I had never been able to discover among my friends.\"), Sentence(\"I couldn’t hold my questions back any more after I had shown\n",
      "    May the footrest under the immense table, where Ila had been sitting when she first introduced me to Nick Price.\"), Sentence(\"Is his hair really yellow?\"), Sentence(\"I cried.\"), Sentence(\"And does it really fall over his eyes?\"), Sentence(\"May gave this a bit of thought and said, no, yellow was not quite the word she would use, it was sort of straw-coloured hair, but yes, it did fall over\n",
      " his eyes.\"), Sentence(\"And what was he like?\"), Sentence(\"I found myself asking her.\"), Sentence(\"Did he like school, and what was he going to do afterwards?\"), Sentence(\"I was being clever.\"), Sentence(\"I didn’t want her to know that I already knew.\"), Sentence(\"She found an upturned chair, righted it, and sat down.\"), Sentence(\"Oh, he’s a very grown-up little boy, she said.\"), Sentence(\"He knows exactly what he’s going to do after\n",
      " school.\"), Sentence(\"What?\"), Sentence(\"He’s going to join a firm of chartered accountants, and once they’ve trained him he’s going to get a nice job with a huge salary preferably abroad,\n",
      " not in England.\"), Sentence(\"England’s gone down the drain, he says.\"), Sentence(\"It can’t afford to pay anyone properly except old-age pensioners.\"), Sentence(\"What’s a chartered accountant?\"), Sentence(\"I said.\"), Sentence(\"She smiled and wiped the back of her hand across his face, leaving a dark smudge on her cheek.\"), Sentence(\"I don’t know, she said, with a snort of laughter.\"), Sentence(\"I think they have big books full of numbers on which they make little marks with red pencils.\"), Sentence(\"I steadied myself against her chair.\"), Sentence(\"But May, I said, doesn’t he want to travel – like your grandfather …?\"), Sentence(\"Oh, travel doesn’t mean the same thing to everyone, she said.\"), Sentence(\"She gave me a long speculative look, narrowing her eyes, and said: I wonder\n",
      " whether you’d like him.\"), Sentence(\"Of course I’d like him, I cried.\"), Sentence(\"I like him already.\"), Sentence(\"You don’t know him, she said.\"), Sentence(\"He’s not at all like us, you know.\"), Sentence(\"What do you mean ‘us’?\"), Sentence(\"I said.\"), Sentence(\"Not much like me, she said.\"), Sentence(\"Nor like our parents, or Tridib, or you, or anyone …\n",
      "    She stood up, dusted her shirt and said, under her breath, to herself, as though in reproof: But all the same he’s a dear old chap.\"), Sentence(\"I hope I’ll meet him some day, I said.\"), Sentence(\"I’m sure you will, she said, smiling.\"), Sentence(\"I wonder what you’ll have to say to him when you do?\"), Sentence(\"I met him seventeen years later, in London.\"), Sentence(\"The day before Robi was to leave for Boston, Ila arranged to take the two of us to meet Mrs Price.\"), Sentence(\"I was delighted: I had been planning to visit her\n",
      " ever since I arrived in London, four weeks before, but somehow I had not quite picked up the courage to go on my own.\"), Sentence(\"Ila and Robi met me at the Indian Students’ Hostel in Bloomsbury where I was staying temporarily.\"), Sentence(\"They arrived late in the afternoon when I was in\n",
      " the dining hall, drinking tea and eating dum aloo and puris, while listening to a bearded student leader from Allahabad who was campaigning to be\n",
      " elected president of the hostel union.\"), Sentence(\"The moment I saw Ila coming through the door, I could tell from her pursed lips and shining eyes that she was nursing a secret.\"), Sentence(\"But when I asked\n",
      " her what it was, on the way to the Goodge Street tube station, she shook her head and hurried on ahead of us.\"), Sentence(\"It was not till the red sign of the Mornington Crescent tube station had flashed past my window like a palmed card that Ila sprang her surprise.\"), Sentence(\"Do you know who’s going to be waiting for us at the station when we get there?\"), Sentence(\"she said.\"), Sentence(\"May?\"), Sentence(\"said Robi.\"), Sentence(\"No, not May, said Ila.\"), Sentence(\"May’s away touring with her orchestra.\"), Sentence(\"Then who?\"), Sentence(\"Go on, tell us.\"), Sentence(\"Nick, she said, her eyes shining.\"), Sentence(\"Nick Price.\"), Sentence(\"I haven’t seen him in, it must be all of ten years.\"), Sentence(\"He was a pimply youth of nineteen then, and I was a\n",
      " buck-toothed belle with braces.\"), Sentence(\"But I thought he was away in Kuwait, said Robi.\"), Sentence(\"Getting rich, doing chartered accountancy or whatever.\"), Sentence(\"He was, said Ila.\"), Sentence(\"He’s been away for a very long time.\"), Sentence(\"But he came back unexpectedly a couple of weeks ago – I don’t know why.\"), Sentence(\"Mrs Price\n",
      " didn’t talk about it much.\"), Sentence(\"She looked out at the black walls of the tunnel, smiling to herself.\"), Sentence(\"I’ll tell you what, she said presently.\"), Sentence(\"After we’ve been to see Mrs Price, I’ll treat you two to dinner at my favourite Indian restaurant – it’s a small\n",
      " Bangladeshi place in Clapham.\"), Sentence(\"You’ll like it.\"), Sentence(\"We can ask Nick too – maybe he’d like to come.\"), Sentence(\"I knew him the moment I saw him.\"), Sentence(\"He was at the far end of the platform, standing under a ‘Way Out’ sign.\"), Sentence(\"He was wearing a blue suit, a striped\n",
      " institutional tie and a dark overcoat.\"), Sentence(\"He looked very tall and broad to me at first, just as I had imagined him.\"), Sentence(\"But when he and Robi met half-way and\n",
      " shook hands, I saw that I was wrong, that my eyes had been deceived by the distorted perspectives of the long, straight lines of the platform: I saw\n",
      " that most of his breadth lay in the thickness of his overcoat and that his head reached no higher up Robi’s shoulder than did mine.\"), Sentence(\"When he turned to Ila, and stuck out his hand, I wondered whether he looked older than he ought because his face had been burnt and coarsened\n",
      " by the desert sun.\"), Sentence(\"But it wasn’t that: it was because of a premature, slightly suspicious gravity that made him wrinkle up his eyes appraisingly when\n",
      " he talked, like a banker who has seen too many good debts turn bad.\"), Sentence(\"Ila laughed, looking at his outstretched hand, and raising herself on tiptoe she flung her arms around his neck and kissed him, full on the mouth.\"), Sentence(\"The blood rushed to his face and he laughed too, awkwardly, and his face suddenly unwrinkled, and throwing his arms around her he hugged her to\n",
      " his chest, and then, when he was kissing her, I saw that his hair had fallen over his eyes in exactly the way Ila had described on that long-ago\n",
      " October morning.\"), Sentence(\"So, when he walked up to me, flicking his straw-coloured hair back, and said: How nice to meet you, I’ve heard so much about you from my\n",
      " mother and May and everyone … what could I say?\"), Sentence(\"I said: I’m not meeting you for the first time; I’ve grown up with you.\"), Sentence(\"He was taken aback.\"), Sentence(\"That must have taken some doing, he said drily, since I grew up right here, in boring suburban old West Hampstead.\"), Sentence(\"I’ve known the streets around here for a long time too, I said.\"), Sentence(\"And then I began to show off.\"), Sentence(\"When we came out of the tube station I stopped them and pointed down the road.\"), Sentence(\"Since this is West End Lane, I said, that must be Sumatra\n",
      " Road over there.\"), Sentence(\"So that corner must be where the air-raid shelter was, the same one that Robi’s mother and your mother and your uncle Alan\n",
      " ducked into on their way back from Mill Lane, when one of those huge, high-calibre bombs exploded on Solent Road, around the corner, blowing up\n",
      " most of the houses there.\"), Sentence(\"And that house, that one, just down the road, over there, on the corner of Lymington Road, I know what it’s called: it’s\n",
      " called Lymington Mansions, and an incendiary bomb fell on it, and burned down two floors.\"), Sentence(\"That was on the first of October 1940, two days before\n",
      " your uncle died.\"), Sentence(\"Nick Price inclined his head at me, in polite incredulity.\"), Sentence(\"He turned to Ila and they walked on ahead, cutting me short.\"), Sentence(\"Robi fell into step beside me\n",
      " and, jabbing me in the ribs, told me not to bullshit; didn’t I know that the Germans hadn’t developed high-calibre bombs till much later in the war?\"), Sentence(\"In\n",
      " 1940 they simply hadn’t possessed a bomb that was powerful enough to knock down a whole street.\"), Sentence(\"But that’s what happened, I said.\"), Sentence(\"How do you know?\"), Sentence(\"Robi said.\"), Sentence(\"Because Tridib told me.\"), Sentence(\"How was he to know?\"), Sentence(\"He was just a kid, nine years old.\"), Sentence(\"Every little bomb probably seemed like an earthquake to him.\"), Sentence(\"Look, I said, that’s what happened.\"), Sentence(\"OK, Robi said.\"), Sentence(\"Since you’re so sure, let’s go and take a look at that road of yours and see what it’s like now.\"), Sentence(\"All right, I said.\"), Sentence(\"I called out to Nick and Ila: We’re going over there to take a look at Solent Road, where the bomb fell.\"), Sentence(\"Ila made an impatient face.\"), Sentence(\"You and your silly bombs, she said.\"), Sentence(\"We’re late already; hurry up.\"), Sentence(\"We’ll wait for you at the corner.\"), Sentence(\"Solent Road’s over there, said Nick, laughing.\"), Sentence(\"Do tell us if you find it all bombed out.\"), Sentence(\"He did not have to tell me where it was.\"), Sentence(\"I knew already, for the map was in my head: down Sumatra Road, fourth turning to the right.\"), Sentence(\"Here we are, said Robi, when we got there.\"), Sentence(\"That’s your bombed-out road.\"), Sentence(\"It was a short road, lined with trees and hedges on either side.\"), Sentence(\"The trees were a pale honey-green – the colour of English greenery – but gentler\n",
      " still now, gilded by the steep afternoon sunlight.\"), Sentence(\"The red brick houses were all exactly the same, on both sides of the road: with sharply pointed tiled\n",
      " roofs and white window frames and doorways, each with its own patch of garden hidden behind a hedge.\"), Sentence(\"There were rows of small cars parked on\n",
      " either side of the road.\"), Sentence(\"Right beside us was a small blue Citroën with a sticker on the windshield which said: Save the Whales.\"), Sentence(\"On the back seat\n",
      " there was a pile of oddly shaped green bottles and next to them a kind of plastic bucket strapped to the seat.\"), Sentence(\"I found myself suddenly absorbed in the trappings of the lives that went with that car.\"), Sentence(\"Are those wine bottles?\"), Sentence(\"I asked Robi.\"), Sentence(\"No, you fool, he laughed.\"), Sentence(\"Those are mineral water bottles.\"), Sentence(\"And that; what’s that?\"), Sentence(\"I asked, pointing to the plastic bucket.\"), Sentence(\"That’s a seat for a baby, he said impatiently.\"), Sentence(\"Haven’t you seen one before?\"), Sentence(\"It’s to keep a baby safe inside a car.\"), Sentence(\"I could not take my eyes off the Citroën.\"), Sentence(\"Enough of that bloody car, said Robi.\"), Sentence(\"Take a look at your bombed-out Solent Road now.\"), Sentence(\"I looked up at the quiet, pretty houses on that tranquil road.\"), Sentence(\"I caught his eye and we both burst into laughter.\"), Sentence(\"Not exactly what you had expected, Robi said.\"), Sentence(\"I did not tell him then, but he was wrong.\"), Sentence(\"I had not expected to see what Tridib had seen.\"), Sentence(\"Of course not.\")]\n"
     ]
    }
   ],
   "source": [
    "SL_sents = TextBlob(Shadow_Lines).sentences\n",
    "print(SL_sents[900:1100])"
   ]
  },
  {
   "cell_type": "code",
   "execution_count": 28,
   "metadata": {},
   "outputs": [
    {
     "name": "stdout",
     "output_type": "stream",
     "text": [
      "Variable                 Type         Data/Info\n",
      "-----------------------------------------------\n",
      "Shadow_Lines             str          The Shadow Lines\\n    Ami<...>l redemptive mystery.\\n \f",
      "\n",
      "leng_sentences           function     <function leng_sentences at 0x108b8a048>\n",
      "pd                       module       <module 'pandas' from '/a<...>ages/pandas/__init__.py'>\n",
      "pol_sect_one             float        0.0\n",
      "pol_sect_one_sents       list         n=2517\n",
      "pol_sect_two             float        0.175\n",
      "pol_sect_two_sents       list         n=3518\n",
      "polarity_sentences       function     <function polarity_sentences at 0x108b8a0d0>\n",
      "sections_SL              list         n=2\n",
      "sl_df                    DataFrame          polarity  subjectiv<...>\\n[6035 rows x 2 columns]\n",
      "sl_df2                   DataFrame          polarity of section<...>\\n[2517 rows x 2 columns]\n",
      "sl_df3                   DataFrame          polarity of section<...>\\n[3518 rows x 2 columns]\n",
      "sl_df4                   DataFrame          Length of Sentence\\<...>\\n[5967 rows x 1 columns]\n",
      "sl_index                 list         n=5967\n",
      "sl_lengths               list         n=5967\n",
      "sl_pol                   float        0.175\n",
      "sl_sections              list         n=2\n",
      "sl_sent_pols             list         n=6035\n",
      "sl_sent_subs             list         n=6035\n",
      "sl_sub                   float        0.7416666666666666\n",
      "split_text               function     <function split_text at 0x10b969950>\n",
      "sub_sect_one             float        0.05\n",
      "sub_sect_one_sents       list         n=2517\n",
      "sub_sect_two             float        0.7416666666666666\n",
      "sub_sect_two_sents       list         n=3518\n",
      "subjectivity_sentences   function     <function subjectivity_sentences at 0x108b8a158>\n",
      "text_reader              function     <function text_reader at 0x108570c80>\n"
     ]
    }
   ],
   "source": [
    "%whos"
   ]
  },
  {
   "cell_type": "code",
   "execution_count": null,
   "metadata": {},
   "outputs": [],
   "source": []
  }
 ],
 "metadata": {
  "kernelspec": {
   "display_name": "Python 3",
   "language": "python",
   "name": "python3"
  },
  "language_info": {
   "codemirror_mode": {
    "name": "ipython",
    "version": 3
   },
   "file_extension": ".py",
   "mimetype": "text/x-python",
   "name": "python",
   "nbconvert_exporter": "python",
   "pygments_lexer": "ipython3",
   "version": "3.6.5"
  }
 },
 "nbformat": 4,
 "nbformat_minor": 2
}
